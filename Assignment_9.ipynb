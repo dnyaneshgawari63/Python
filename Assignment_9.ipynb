{
 "cells": [
  {
   "cell_type": "markdown",
   "metadata": {},
   "source": [
    "1. To what does a relative path refer?\n",
    "\n",
    "Ans: It tells the current location of the file or current directory."
   ]
  },
  {
   "cell_type": "markdown",
   "metadata": {},
   "source": [
    "2. What does an absolute path start with your operating system?\n",
    "\n",
    "Ans. Absolute path in windows start with C:\\user  and in linus /home/user. "
   ]
  },
  {
   "cell_type": "markdown",
   "metadata": {},
   "source": [
    "3. What do the functions os.getcwd() and os.chdir() do?\n",
    "\n",
    "Ans: In 'os' pyhton module, os.getcwd() gives our currrent directory path while os.chdir() changes the directory path."
   ]
  },
  {
   "cell_type": "markdown",
   "metadata": {},
   "source": [
    "4. What are the . and .. folders?\n",
    "\n",
    "Ans. Dot \".\" represents current whereas .. represents previous or parent directory."
   ]
  },
  {
   "cell_type": "markdown",
   "metadata": {},
   "source": [
    "5. In C:\\bacon\\eggs\\spam.txt, which part is the dir name, and which part is the base name?\n",
    "\n",
    "Ans: C:\\bacon\\eggs is a directory name and spam.txt is base name."
   ]
  },
  {
   "cell_type": "markdown",
   "metadata": {},
   "source": [
    "6. What are the three “mode” arguments that can be passed to the open() function?\n",
    "\n",
    "Ans: with open (\"xyz.csv\", \"r/w/a\") r stands for read, w for write and a for append."
   ]
  },
  {
   "cell_type": "markdown",
   "metadata": {},
   "source": [
    "7. What happens if an existing file is opened in write mode?\n",
    "\n",
    "Ans: It can delete the original data and overwrite with blank data/or provided."
   ]
  },
  {
   "cell_type": "markdown",
   "metadata": {},
   "source": [
    "8. How do you tell the difference between read() and readlines()?\n",
    "\n",
    "Ans: file.read output given as whole string and file.readlines output given as line by line."
   ]
  },
  {
   "cell_type": "code",
   "execution_count": 65,
   "metadata": {},
   "outputs": [
    {
     "name": "stdout",
     "output_type": "stream",
     "text": [
      "['In a world driven by constant technological advancements and interconnectedness, our lives have become intricately intertwined with the digital realm. The rapid proliferation of the internet and the widespread adoption of smart devices have revolutionized the way we communicate, work, and access information. From the convenience of online shopping to the vast sea of knowledge available at our fingertips, the digital landscape has opened up endless possibilities and opportunities. However, as we navigate this digital age, it is crucial to strike a balance between the benefits and challenges it presents. The pervasive influence of social media, while enhancing connectivity, has also given rise to concerns about privacy, online security, and the impact on mental well-being. The realm of artificial intelligence and machine learning continues to push the boundaries of what is possible, enabling automated systems, personalized recommendations, and even autonomous vehicles. Yet, ethical considerations and responsible development are paramount as we grapple with questions of algorithmic bias, job displacement, and the ethical implications of AI decision-making. Furthermore, the emergence of blockchain technology has the potential to disrupt traditional systems, offering transparency, security, and decentralized control. Its applications span beyond cryptocurrency, encompassing fields such as supply chain management, voting systems, and intellectual property rights. Amidst these developments, it is vital to cultivate digital literacy and critical thinking skills, empowering individuals to navigate the complex digital landscape with discernment and make informed decisions. As we stand at the cusp of further technological breakthroughs, it is essential to foster a holistic approach that embraces innovation while addressing the ethical, social, and environmental implications. By doing so, we can harness the power of technology to create a future that is both technologically advanced and ethically sound, benefiting individuals and society as a whole. \\n', '\\n', '\\tThe world we inhabit today is a tapestry of diverse cultures, ideologies, and perspectives, interwoven through the intricate threads of human interaction. From the bustling metropolises that pulse with the rhythm of urban life to the tranquil corners of untouched nature that whisper tales of ancient beauty, our planet offers an abundance of wonders to be explored. It is a realm where innovation and tradition coexist, where ancient wisdom dances with modern knowledge, and where the pursuit of progress walks hand in hand with the preservation of heritage. Through the lenses of science, art, literature, and spirituality, humanity strives to unravel the mysteries of existence and to express the ineffable depths of the human experience. We build bridges of understanding and empathy, transcending boundaries of geography and culture, to forge connections that bind us as a global community. Yet, we face formidable challenges that demand our collective attention and action. The forces of climate change, environmental degradation, and species extinction cast a shadow over the fragile web of life that sustains us. Inequities and social injustices persist, calling for efforts to foster equality, inclusivity, and justice. As we navigate the complexities of the 21st century, we find solace and inspiration in the resilience of the human spirit, the capacity for compassion, and the boundless potential for positive change. By embracing our shared humanity, cultivating empathy, and nurturing a sense of global citizenship, we can collectively work towards a future where harmony, sustainability, and social progress flourish. Let us embark on this journey together, cherishing our diversity, honoring our interconnectedness, and envisioning a world where the pursuit of peace, understanding, and well-being unites us all.']\n"
     ]
    }
   ],
   "source": [
    "with open(\"sample.txt\", \"r\") as file:\n",
    "    data = file.readlines()\n",
    "    print(data)"
   ]
  },
  {
   "cell_type": "code",
   "execution_count": 51,
   "metadata": {},
   "outputs": [],
   "source": [
    "import os\n",
    "\n",
    "os.chdir(\"/Fullstack_DataScience/text_docx_pdf_xlsx_files\")"
   ]
  },
  {
   "cell_type": "code",
   "execution_count": 49,
   "metadata": {},
   "outputs": [
    {
     "data": {
      "text/plain": [
       "'D:\\\\Fullstack_DataScience'"
      ]
     },
     "execution_count": 49,
     "metadata": {},
     "output_type": "execute_result"
    }
   ],
   "source": [
    "pwd"
   ]
  }
 ],
 "metadata": {
  "kernelspec": {
   "display_name": "Python 3",
   "language": "python",
   "name": "python3"
  },
  "language_info": {
   "codemirror_mode": {
    "name": "ipython",
    "version": 3
   },
   "file_extension": ".py",
   "mimetype": "text/x-python",
   "name": "python",
   "nbconvert_exporter": "python",
   "pygments_lexer": "ipython3",
   "version": "3.10.7"
  },
  "orig_nbformat": 4
 },
 "nbformat": 4,
 "nbformat_minor": 2
}
