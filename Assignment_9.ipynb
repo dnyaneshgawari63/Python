{
 "cells": [
  {
   "cell_type": "markdown",
   "metadata": {},
   "source": [
    "1. To what does a relative path refer?\n",
    "\n",
    "Ans: It tells the current location of the file or current directory."
   ]
  },
  {
   "cell_type": "markdown",
   "metadata": {},
   "source": [
    "2. What does an absolute path start with your operating system?\n",
    "\n",
    "Ans. Absolute path in windows start with C:\\user  and in linus /home/user. "
   ]
  },
  {
   "cell_type": "markdown",
   "metadata": {},
   "source": [
    "3. What do the functions os.getcwd() and os.chdir() do?\n",
    "\n",
    "Ans: In 'os' pyhton module, os.getcwd() gives our currrent directory path while os.chdir() changes the directory path."
   ]
  },
  {
   "cell_type": "markdown",
   "metadata": {},
   "source": [
    "4. What are the . and .. folders?\n",
    "\n",
    "Ans. Dot \".\" represents current whereas .. represents previous or parent directory."
   ]
  },
  {
   "cell_type": "markdown",
   "metadata": {},
   "source": [
    "5. In C:\\bacon\\eggs\\spam.txt, which part is the dir name, and which part is the base name?\n",
    "\n",
    "Ans: C:\\bacon\\eggs is a directory name and spam.txt is base name."
   ]
  },
  {
   "cell_type": "markdown",
   "metadata": {},
   "source": [
    "6. What are the three “mode” arguments that can be passed to the open() function?\n",
    "\n",
    "Ans: with open (\"xyz.csv\", \"r/w/a\") r stands for read, w for write and a for append."
   ]
  },
  {
   "cell_type": "markdown",
   "metadata": {},
   "source": [
    "7. What happens if an existing file is opened in write mode?\n",
    "\n",
    "Ans: It can delete the original data and overwrite with blank data/or provided."
   ]
  },
  {
   "cell_type": "markdown",
   "metadata": {},
   "source": [
    "8. How do you tell the difference between read() and readlines()?\n",
    "\n",
    "Ans: file.read output given as whole string and file.readlines output given as line by line.\n",
    "\n",
    "\n",
    "Before executing code, change the executing directory to file location directory. \n",
    "\n",
    "e.g. \n",
    "\n",
    "import os\n",
    "\n",
    "os.chdir(\"tex or file path\") then code will work or else will give error."
   ]
  },
  {
   "cell_type": "code",
   "execution_count": 22,
   "metadata": {},
   "outputs": [
    {
     "name": "stdout",
     "output_type": "stream",
     "text": [
      "In a world driven by constant technological advancements and interconnectedness, our lives have become intricately intertwined with the digital realm. \n",
      "\n"
     ]
    }
   ],
   "source": [
    "with open(\"sample.txt\", \"r\") as file:\n",
    "    data = file.readline()\n",
    "    print(data) "
   ]
  },
  {
   "cell_type": "code",
   "execution_count": 23,
   "metadata": {},
   "outputs": [
    {
     "name": "stdout",
     "output_type": "stream",
     "text": [
      "['In a world driven by constant technological advancements and interconnectedness, our lives have become intricately intertwined with the digital realm. \\n', 'The rapid proliferation of the internet and the widespread adoption of smart devices have revolutionized the way we communicate, work, and access information.\\n', 'From the convenience of online shopping to the vast sea of knowledge available at our fingertips, the digital landscape has opened up endless possibilities and opportunities.\\n', '\\n', ' However, as we navigate this digital age, it is crucial to strike a balance between the benefits and challenges it presents. \\n', '\\n', 'The pervasive influence of social media, while enhancing connectivity, has also given rise to concerns about privacy, online security, and the impact on mental well-being.\\n', '\\n', '\\tThe world we inhabit today is a tapestry of diverse cultures, ideologies, and perspectives, interwoven through the intricate threads of human interaction.']\n"
     ]
    }
   ],
   "source": [
    "with open(\"sample.txt\", \"r\") as file:\n",
    "    data = file.readlines()\n",
    "    print(data) "
   ]
  },
  {
   "cell_type": "code",
   "execution_count": 24,
   "metadata": {},
   "outputs": [
    {
     "name": "stdout",
     "output_type": "stream",
     "text": [
      "In a world driven by constant technological advancements and interconnectedness, our lives have become intricately intertwined with the digital realm. \n",
      "The rapid proliferation of the internet and the widespread adoption of smart devices have revolutionized the way we communicate, work, and access information.\n",
      "From the convenience of online shopping to the vast sea of knowledge available at our fingertips, the digital landscape has opened up endless possibilities and opportunities.\n",
      "\n",
      " However, as we navigate this digital age, it is crucial to strike a balance between the benefits and challenges it presents. \n",
      "\n",
      "The pervasive influence of social media, while enhancing connectivity, has also given rise to concerns about privacy, online security, and the impact on mental well-being.\n",
      "\n",
      "\tThe world we inhabit today is a tapestry of diverse cultures, ideologies, and perspectives, interwoven through the intricate threads of human interaction.\n"
     ]
    }
   ],
   "source": [
    "with open(\"sample.txt\", \"r\") as file:\n",
    "    data = file.read()\n",
    "    print(data) "
   ]
  },
  {
   "cell_type": "markdown",
   "metadata": {},
   "source": [
    "9. What data structure does a shelf value resemble?\n",
    "\n",
    "Ans: Shelf value resembles a list type data structure."
   ]
  }
 ],
 "metadata": {
  "kernelspec": {
   "display_name": "Python 3",
   "language": "python",
   "name": "python3"
  },
  "language_info": {
   "codemirror_mode": {
    "name": "ipython",
    "version": 3
   },
   "file_extension": ".py",
   "mimetype": "text/x-python",
   "name": "python",
   "nbconvert_exporter": "python",
   "pygments_lexer": "ipython3",
   "version": "3.10.7"
  },
  "orig_nbformat": 4
 },
 "nbformat": 4,
 "nbformat_minor": 2
}
