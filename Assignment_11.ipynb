{
 "cells": [
  {
   "cell_type": "markdown",
   "metadata": {},
   "source": [
    "1. Create an assert statement that throws an AssertionError if the variable spam is a negative\n",
    "integer.\n",
    "2. Write an assert statement that triggers an AssertionError if the variables eggs and bacon contain\n",
    "strings that are the same as each other, even if their cases are different (that is, 'hello' and 'hello' are\n",
    "considered the same, and 'goodbye' and 'GOODbye' are also considered the same).\n",
    "3. Create an assert statement that throws an AssertionError every time.\n",
    "4. What are the two lines that must be present in your software in order to call logging.debug()?\n",
    "5. What are the two lines that your program must have in order to have logging.debug() send a logging message to a file named programLog.txt?\n",
    "6. What are the five levels of logging?\n",
    "7. What line of code would you add to your software to disable all logging messages?\n",
    "8. Why is using logging messages better than using print() to display the same message?\n",
    "9. What are the differences between the Step Over, Step In, and Step Out buttons in the debugger?\n",
    "10. After you click Continue, when will the debugger stop ?\n",
    "11. What is the concept of a breakpoint?"
   ]
  },
  {
   "cell_type": "markdown",
   "metadata": {},
   "source": [
    "1. Create an assert statement that throws an AssertionError if the variable spam is a negative\n",
    "integer."
   ]
  },
  {
   "cell_type": "code",
   "execution_count": 3,
   "metadata": {},
   "outputs": [
    {
     "ename": "AssertionError",
     "evalue": "Enter non negative number",
     "output_type": "error",
     "traceback": [
      "\u001b[1;31m---------------------------------------------------------------------------\u001b[0m",
      "\u001b[1;31mAssertionError\u001b[0m                            Traceback (most recent call last)",
      "Cell \u001b[1;32mIn[3], line 2\u001b[0m\n\u001b[0;32m      1\u001b[0m spam \u001b[39m=\u001b[39m \u001b[39m-\u001b[39m\u001b[39m5\u001b[39m\n\u001b[1;32m----> 2\u001b[0m \u001b[39massert\u001b[39;00m spam \u001b[39m>\u001b[39m\u001b[39m=\u001b[39m \u001b[39m0\u001b[39m, \u001b[39m\"\u001b[39m\u001b[39mEnter non negative number\u001b[39m\u001b[39m\"\u001b[39m\n",
      "\u001b[1;31mAssertionError\u001b[0m: Enter non negative number"
     ]
    }
   ],
   "source": [
    "spam = -5\n",
    "assert spam >= 0, \"Enter non negative number\""
   ]
  },
  {
   "cell_type": "code",
   "execution_count": 2,
   "metadata": {},
   "outputs": [
    {
     "name": "stdout",
     "output_type": "stream",
     "text": [
      "Enter non negative number\n"
     ]
    }
   ],
   "source": [
    "# assert error handled below\n",
    "spam = -5\n",
    "\n",
    "try:\n",
    "    assert spam >= 0, \"Enter non negative number\"\n",
    "except AssertionError as ass:\n",
    "    print(ass)\n"
   ]
  },
  {
   "cell_type": "markdown",
   "metadata": {},
   "source": [
    "2. Write an assert statement that triggers an AssertionError if the variables eggs and bacon contain strings that are the same as each other, even if their cases are different (that is, 'hello' and 'hello' are considered the same, and 'goodbye' and 'GOODbye' are also considered the same)."
   ]
  },
  {
   "cell_type": "code",
   "execution_count": 81,
   "metadata": {},
   "outputs": [
    {
     "name": "stdout",
     "output_type": "stream",
     "text": [
      "eggs and bacon must not be same\n"
     ]
    }
   ],
   "source": [
    "# very interesting question and answer is even more, your mind will spin upside down hahahaha!\n",
    "\n",
    "eggs = \"hello\"\n",
    "\n",
    "bacon = \"heLlo\"\n",
    "\n",
    "# first we are making all case sensitive letters to lower in both variables\n",
    "# then using not equal to sign\n",
    "# \"not eqaul to sign\" makes the assert statment condition True \"when eggs and bacon are 'not equal', which gives no error or pass the code\"\n",
    "# but \"not eqaul to sign\" makes the assert statment condition False \"when eggs and bacon are 'equal', which gives error and do not pass the code\"\n",
    "\n",
    "\n",
    "try:\n",
    "    assert eggs.lower() != bacon.lower(), \"eggs and bacon must not be same\"\n",
    "except AssertionError as e:\n",
    "    print(e)"
   ]
  },
  {
   "cell_type": "code",
   "execution_count": 55,
   "metadata": {},
   "outputs": [],
   "source": [
    "eggs = \"Hello\"\n",
    "bacon = \"hello\"\n",
    "\n",
    "assert eggs.lower() != bacon.lower(), \"eggs and bacon should not be the same (case-insensitive)\"\n"
   ]
  },
  {
   "cell_type": "markdown",
   "metadata": {},
   "source": [
    "3. Create an assert statement that throws an AssertionError every time.\n"
   ]
  },
  {
   "cell_type": "code",
   "execution_count": 16,
   "metadata": {},
   "outputs": [
    {
     "name": "stdout",
     "output_type": "stream",
     "text": [
      "Always find what are you doing\n"
     ]
    }
   ],
   "source": [
    "try:\n",
    "    assert False , \"Always find what are you doing\"\n",
    "except AssertionError as e:\n",
    "    print(e)"
   ]
  },
  {
   "cell_type": "markdown",
   "metadata": {},
   "source": [
    "4. What are the two lines that must be present in your software in order to call logging.debug()?\n",
    "\n",
    "Ans: \n",
    "\n",
    "import logging\n",
    "\n",
    "logging.basicConfig(level=logging.DEBUG)"
   ]
  },
  {
   "cell_type": "code",
   "execution_count": 49,
   "metadata": {},
   "outputs": [
    {
     "name": "stderr",
     "output_type": "stream",
     "text": [
      "DEBUG:root:Lets add 45 and 55 numbers\n",
      "DEBUG:root:The summattion is 100\n"
     ]
    }
   ],
   "source": [
    "import logging\n",
    "\n",
    "logging.basicConfig(level=logging.DEBUG)\n",
    "\n",
    "def addition(x,y):\n",
    "    logging.debug(f\"Lets add {x} and {y} numbers\")\n",
    "    result = x + y\n",
    "    logging.debug\n",
    "    return result\n",
    "\n",
    "x = 45\n",
    "y = 55\n",
    "\n",
    "logging.debug(f\"The summattion is {addition(x,y)}\")\n"
   ]
  },
  {
   "cell_type": "markdown",
   "metadata": {},
   "source": [
    "5. What are the two lines that your program must have in order to have logging.debug() send a logging message to a file named programLog.txt?\n"
   ]
  },
  {
   "cell_type": "code",
   "execution_count": 84,
   "metadata": {},
   "outputs": [
    {
     "name": "stderr",
     "output_type": "stream",
     "text": [
      "DEBUG:root:see you inside programLog.txt file\n"
     ]
    }
   ],
   "source": [
    "import logging\n",
    "\n",
    "logging.basicConfig(filename= 'programLog.txt', level=logging.DEBUG)\n",
    "\n",
    "logging.debug(\"see you inside programLog.txt file\")"
   ]
  },
  {
   "cell_type": "markdown",
   "metadata": {},
   "source": [
    "6. What are the five levels of logging?"
   ]
  },
  {
   "cell_type": "code",
   "execution_count": 89,
   "metadata": {},
   "outputs": [
    {
     "data": {
      "text/plain": [
       "50"
      ]
     },
     "execution_count": 89,
     "metadata": {},
     "output_type": "execute_result"
    }
   ],
   "source": [
    "logging.DEBUG\n",
    "logging.INFO\n",
    "logging.WARNING\n",
    "logging.ERROR\n",
    "logging.CRITICAL"
   ]
  },
  {
   "cell_type": "markdown",
   "metadata": {},
   "source": [
    "7. What line of code would you add to your software to disable all logging messages?"
   ]
  },
  {
   "cell_type": "code",
   "execution_count": 103,
   "metadata": {},
   "outputs": [],
   "source": [
    "# whichever higher level we give out of five, it disables lower levels message. \n",
    "# Now to disable all messages from all the levels, \n",
    "# we need to give critical plus 1 so that \n",
    "# logging will disable all levels messages.\n",
    "\n",
    "logging.disable(logging.CRITICAL + 1)\n"
   ]
  },
  {
   "cell_type": "markdown",
   "metadata": {},
   "source": [
    "8. Why is using logging messages better than using print() to display the same message?"
   ]
  },
  {
   "cell_type": "markdown",
   "metadata": {},
   "source": [
    "Ans. \n",
    "\n",
    "1. We can disable which messages you dont want to see using levels with logging but not with print.\n",
    "2. We can see logging messages in specific log file, destination folder, database, specific type of file etc.,\n",
    "3. In production we might not access consol, so important messages with debugging we can see which we cant with print.\n",
    "4. logging gives structured output which is impossible with print."
   ]
  },
  {
   "cell_type": "markdown",
   "metadata": {},
   "source": [
    "9. What are the differences between the Step Over, Step In, and Step Out buttons in the debugger?\n",
    "\n",
    "Ans: \n",
    "\n",
    "1. Step in: 's' gives next line of code\n",
    "2. Step over: 'n' gives next line of code\n",
    "3. Step out: 'u' return to higher level of specific code context, after step in \"example def add()\" if we press \"u\" it will return to \"addition = add(x,y)\"\n",
    "\n"
   ]
  },
  {
   "cell_type": "code",
   "execution_count": 6,
   "metadata": {},
   "outputs": [
    {
     "name": "stdout",
     "output_type": "stream",
     "text": [
      "> \u001b[1;32mc:\\users\\dnyanesh\\appdata\\local\\temp\\ipykernel_7424\\2975072562.py\u001b[0m(8)\u001b[0;36madd\u001b[1;34m()\u001b[0m\n",
      "\n",
      "> \u001b[1;32mc:\\users\\dnyanesh\\appdata\\local\\temp\\ipykernel_7424\\2975072562.py\u001b[0m(9)\u001b[0;36madd\u001b[1;34m()\u001b[0m\n",
      "\n",
      "--Return--\n",
      "17\n",
      "> \u001b[1;32mc:\\users\\dnyanesh\\appdata\\local\\temp\\ipykernel_7424\\2975072562.py\u001b[0m(9)\u001b[0;36madd\u001b[1;34m()\u001b[0m\n",
      "\n",
      "> \u001b[1;32mc:\\users\\dnyanesh\\appdata\\local\\temp\\ipykernel_7424\\2975072562.py\u001b[0m(20)\u001b[0;36mmain\u001b[1;34m()\u001b[0m\n",
      "\n",
      "> \u001b[1;32mc:\\users\\dnyanesh\\appdata\\local\\temp\\ipykernel_7424\\2975072562.py\u001b[0m(21)\u001b[0;36mmain\u001b[1;34m()\u001b[0m\n",
      "\n",
      "None\n",
      "> \u001b[1;32mc:\\users\\dnyanesh\\appdata\\local\\temp\\ipykernel_7424\\2975072562.py\u001b[0m(24)\u001b[0;36m<module>\u001b[1;34m()\u001b[0m\n",
      "\n",
      "Addition of numbers 8 and 9 is 17.\n",
      "Product of the numbers 8 and 9 is 72.\n",
      "--Return--\n",
      "None\n",
      "> \u001b[1;32mc:\\users\\dnyanesh\\appdata\\local\\temp\\ipykernel_7424\\2975072562.py\u001b[0m(24)\u001b[0;36m<module>\u001b[1;34m()\u001b[0m\n",
      "\n"
     ]
    }
   ],
   "source": [
    "# here I have used python debugger\n",
    "# this code need to be executed with .py so it will be opened later into debugger window to use function like next, step, quit and print, continue and up.\n",
    "\n",
    "import pdb # python debugger\n",
    "\n",
    "def add(x,y):\n",
    "    pdb.set_trace()\n",
    "    resultadd = x + y\n",
    "    return resultadd\n",
    "\n",
    "def multi(x,y):\n",
    "    resultmulti = x * y\n",
    "    return resultmulti\n",
    "\n",
    "def main():\n",
    "    x = 8\n",
    "    y = 9\n",
    "\n",
    "    addition = add(x,y)\n",
    "    product = multi(x,y)\n",
    "    print(f\"Addition of numbers {x} and {y} is {addition}.\")\n",
    "    print(f\"Product of the numbers {x} and {y} is {product}.\")\n",
    "\n",
    "main()"
   ]
  },
  {
   "cell_type": "markdown",
   "metadata": {},
   "source": [
    "10. After you click Continue, when will the debugger stop ?\n",
    "\n",
    "Ans: \n",
    "\n",
    "1. After completing excution of entire script.\n",
    "2. After given breakpoint"
   ]
  },
  {
   "cell_type": "code",
   "execution_count": 14,
   "metadata": {},
   "outputs": [
    {
     "name": "stdout",
     "output_type": "stream",
     "text": [
      "> \u001b[1;32mc:\\users\\dnyanesh\\appdata\\local\\temp\\ipykernel_7424\\1510982213.py\u001b[0m(16)\u001b[0;36mmain\u001b[1;34m()\u001b[0m\n",
      "\n",
      "> \u001b[1;32mc:\\users\\dnyanesh\\appdata\\local\\temp\\ipykernel_7424\\1510982213.py\u001b[0m(10)\u001b[0;36mmulti\u001b[1;34m()\u001b[0m\n",
      "\n"
     ]
    }
   ],
   "source": [
    "# After given breakpoint with continue or \"c\" debugger will stop at breakpoint. In below code, at multi().\n",
    "import pdb \n",
    "def add(x,y):\n",
    "    resultadd = x + y\n",
    "    return resultadd\n",
    "\n",
    "def multi(x,y):\n",
    "    resultmulti = x * y\n",
    "    pdb.set_trace()\n",
    "    return resultmulti\n",
    "    pdb.set_trace()\n",
    "def main():\n",
    "    x = 8\n",
    "    y = 9\n",
    "    pdb.set_trace()\n",
    "    addition = add(x,y)\n",
    "    product = multi(x,y)\n",
    "    print(f\"Addition of numbers {x} and {y} is {addition}.\")\n",
    "    print(f\"Product of the numbers {x} and {y} is {product}.\")\n",
    "\n",
    "main()"
   ]
  },
  {
   "cell_type": "markdown",
   "metadata": {},
   "source": [
    "11. What is the concept of a breakpoint?\n",
    "\n",
    "Ans:"
   ]
  },
  {
   "cell_type": "code",
   "execution_count": 15,
   "metadata": {},
   "outputs": [
    {
     "data": {
      "text/plain": [
       "<function IPython.core.debugger.set_trace(frame=None)>"
      ]
     },
     "execution_count": 15,
     "metadata": {},
     "output_type": "execute_result"
    }
   ],
   "source": [
    "pdb.set_trace \n",
    "# in code \"pdb.set_trace\" used to display where is a breakpoint. Script will execution till where the breakpoint is."
   ]
  }
 ],
 "metadata": {
  "kernelspec": {
   "display_name": "Python 3",
   "language": "python",
   "name": "python3"
  },
  "language_info": {
   "codemirror_mode": {
    "name": "ipython",
    "version": 3
   },
   "file_extension": ".py",
   "mimetype": "text/x-python",
   "name": "python",
   "nbconvert_exporter": "python",
   "pygments_lexer": "ipython3",
   "version": "3.8.16"
  },
  "orig_nbformat": 4
 },
 "nbformat": 4,
 "nbformat_minor": 2
}
