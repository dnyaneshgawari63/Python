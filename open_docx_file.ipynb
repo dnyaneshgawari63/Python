{
 "cells": [
  {
   "cell_type": "code",
   "execution_count": null,
   "metadata": {},
   "outputs": [],
   "source": [
    "def docxfileopening():\n",
    "    import docx2txt\n",
    "    with open(\"Assignment_5.docx\", \"rb\") as f:\n",
    "        content = docx2txt.process(f)\n",
    "        return content\n",
    "# you can avoid typing below line if you write just Print(content) instead return content    \n",
    "lines = docxfileopening().split(\"\\n\")\n",
    "for line in lines:\n",
    "    print(line)"
   ]
  }
 ],
 "metadata": {
  "language_info": {
   "name": "python"
  },
  "orig_nbformat": 4
 },
 "nbformat": 4,
 "nbformat_minor": 2
}
