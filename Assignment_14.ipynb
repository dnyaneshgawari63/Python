{
 "cells": [
  {
   "cell_type": "code",
   "execution_count": 14,
   "metadata": {},
   "outputs": [],
   "source": [
    "# 1. What does RGBA stand for?\n",
    "# 2. From the Pillow module, how do you get the RGBA value of any images?\n",
    "# 3. What is a box tuple, and how does it work?\n",
    "# 4. Use your image and load in notebook then, How can you find out the width and height of an Image object?\n",
    "# 5. What method would you call to get Image object for a 100×100 image, excluding the lower-left quarter of it?\n",
    "# 6. After making changes to an Image object, how could you save it as an image file?\n",
    "# 7. What module contains Pillow’s shape-drawing code?\n",
    "# 8. Image objects do not have drawing methods. What kind of object does? How do you get this kind of object?"
   ]
  },
  {
   "cell_type": "markdown",
   "metadata": {},
   "source": [
    "```1. What does RGBA stand for?```\n",
    "\n",
    "```Ans: red, green, blue, alpha (Tells about transparancy from 0 to 1)```"
   ]
  },
  {
   "cell_type": "markdown",
   "metadata": {},
   "source": [
    "```2. From the Pillow module, how do you get the RGBA value of any images?```\n",
    "\n",
    "```Ans:```"
   ]
  },
  {
   "cell_type": "code",
   "execution_count": 15,
   "metadata": {},
   "outputs": [
    {
     "name": "stdout",
     "output_type": "stream",
     "text": [
      "(226, 207, 192)\n"
     ]
    }
   ],
   "source": [
    "from PIL import Image\n",
    "\n",
    "image_path = \"tiger_freeimage.jpg\"\n",
    "\n",
    "image = Image.open(image_path)\n",
    "\n",
    "x,y = 0,0 # these coordinates means you are telling the poisition of pointer or cursor over image \n",
    "\n",
    "rgba_values = image.getpixel((x,y))\n",
    "\n",
    "print(rgba_values)"
   ]
  },
  {
   "cell_type": "markdown",
   "metadata": {},
   "source": [
    "```3. What is a box tuple, and how does it work?```\n",
    "\n",
    "```Ans:```"
   ]
  },
  {
   "cell_type": "code",
   "execution_count": 39,
   "metadata": {},
   "outputs": [],
   "source": [
    "from PIL import Image\n",
    "\n",
    "image = Image.open(\"tiger_freeimage.jpg\")\n",
    "\n",
    "box_tuple = (1,2,100,100)\n",
    "\n",
    "cropped_image = image.crop(box_tuple)\n",
    "\n",
    "cropped_image.show()\n",
    "\n",
    "cropped_image.save(\"tiger_cropped.jpg\")"
   ]
  },
  {
   "cell_type": "markdown",
   "metadata": {},
   "source": [
    "```4. Use your image and load in notebook then, How can you find out the width and height of an Image object?```\n",
    "\n",
    "```Ans:```"
   ]
  },
  {
   "cell_type": "code",
   "execution_count": 53,
   "metadata": {},
   "outputs": [
    {
     "name": "stdout",
     "output_type": "stream",
     "text": [
      "6000 : 4000\n"
     ]
    }
   ],
   "source": [
    "from PIL import Image\n",
    "\n",
    "image = Image.open(\"tiger_freeimage.jpg\")\n",
    "\n",
    "width, height = image.size\n",
    "\n",
    "print(width, \":\", height)"
   ]
  },
  {
   "cell_type": "markdown",
   "metadata": {},
   "source": [
    "```5. What method would you call to get Image object for a 100×100 image, excluding the lower-left quarter of it?```\n",
    "\n",
    "```Ans:```"
   ]
  },
  {
   "cell_type": "code",
   "execution_count": 56,
   "metadata": {},
   "outputs": [],
   "source": [
    "image  = Image.open(\"tiger_freeimage.jpg\")\n",
    "\n",
    "box_tuple = (0,0,100,100)\n",
    "\n",
    "cropped_image = image.crop(box_tuple)\n",
    "\n",
    "cropped_image.show()\n"
   ]
  },
  {
   "cell_type": "markdown",
   "metadata": {},
   "source": [
    "```6. After making changes to an Image object, how could you save it as an image file?```\n",
    "\n",
    "```Ans:```"
   ]
  },
  {
   "cell_type": "code",
   "execution_count": 57,
   "metadata": {},
   "outputs": [],
   "source": [
    "cropped_image.save(\"cropped.jpg\")"
   ]
  },
  {
   "cell_type": "markdown",
   "metadata": {},
   "source": [
    "```7. What module contains Pillow’s shape-drawing code?```\n",
    "\n",
    "```Ans:```\n",
    "\n"
   ]
  },
  {
   "cell_type": "code",
   "execution_count": 82,
   "metadata": {},
   "outputs": [],
   "source": [
    "from PIL import Image, ImageDraw\n",
    "\n",
    "image = Image.new(\"RGB\", (100,100), \"white\")\n",
    "\n",
    "draw = ImageDraw.Draw(image)\n",
    "\n",
    "draw.rectangle([10,10,95,95], outline=\"red\",fill=\"red\")\n",
    "image.save(\"newimagee.jpg\")\n"
   ]
  }
 ],
 "metadata": {
  "kernelspec": {
   "display_name": "Python 3",
   "language": "python",
   "name": "python3"
  },
  "language_info": {
   "codemirror_mode": {
    "name": "ipython",
    "version": 3
   },
   "file_extension": ".py",
   "mimetype": "text/x-python",
   "name": "python",
   "nbconvert_exporter": "python",
   "pygments_lexer": "ipython3",
   "version": "3.10.7"
  }
 },
 "nbformat": 4,
 "nbformat_minor": 2
}
