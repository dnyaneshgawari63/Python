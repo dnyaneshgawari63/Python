{
 "cells": [
  {
   "cell_type": "code",
   "execution_count": 2,
   "metadata": {},
   "outputs": [],
   "source": [
    "# 1. What advantages do Excel spreadsheets have over CSV spreadsheets?\n",
    "# 2. What do you pass to csv.reader() and csv.writer() to create reader and writer objects?\n",
    "# 3. What modes do File objects for reader and writer objects need to be opened in?\n",
    "# 4. What method takes a list argument and writes it to a CSV file?\n",
    "# 5. What do the keyword arguments delimiter and line terminator do?\n",
    "# 6. What function takes a string of JSON data and returns a Python data structure?\n",
    "# 7. What function takes a Python data structure and returns a string of JSON data?"
   ]
  },
  {
   "cell_type": "markdown",
   "metadata": {},
   "source": [
    "```1. What advantages do Excel spreadsheets have over CSV spreadsheets?```\n",
    "```\n",
    "Ans: \n",
    "1. Excel can be edited using formula, different kinds of formatting, use inbuilt graphs, macro, use predifined rules for pasting copying, and many more.\n",
    "2. While CSV file is a comma seperated with values and can be used by other tools to generate desired results. Inbuilt  can't do much like excel as in Graphs, formulas, macro, more over less versatile compared to excel.\n",
    "```"
   ]
  },
  {
   "cell_type": "markdown",
   "metadata": {},
   "source": [
    "```2. What do you pass to csv.reader() and csv.writer() to create reader and writer objects?```"
   ]
  },
  {
   "cell_type": "code",
   "execution_count": 3,
   "metadata": {},
   "outputs": [
    {
     "name": "stdout",
     "output_type": "stream",
     "text": [
      "['Day', ' Month', ' Year', ' Time']\n"
     ]
    }
   ],
   "source": [
    "# csv reader, reads csv, how funny!\n",
    "import csv \n",
    "\n",
    "with open(\"scrap.csv\", \"r\", newline=\"\") as file1:\n",
    "\n",
    "    readerr = csv.reader(file1)\n",
    "\n",
    "    for x in readerr:\n",
    "        print(x)"
   ]
  },
  {
   "cell_type": "code",
   "execution_count": 8,
   "metadata": {},
   "outputs": [],
   "source": [
    "# csv writer, means this code will add the written text inside csv, how is that!\n",
    "\n",
    "import csv\n",
    "\n",
    "with open(\"scrap.csv\", \"w\", newline=\"\") as file2:\n",
    "    writerr = csv.writer(file2)\n",
    "\n",
    "    writerr.writerow([\"Firstname\",\"Middlename\",\"Surname\"])\n",
    "    writerr.writerow([\"father\", \"Mother\", \"brother\"])"
   ]
  },
  {
   "cell_type": "markdown",
   "metadata": {},
   "source": [
    "```3. What modes do File objects for reader and writer objects need to be opened in?```\n",
    "\n",
    "```\n",
    "Ans: for reader \"r\" and writer \"w\", explained in above example.\n",
    "```"
   ]
  },
  {
   "cell_type": "markdown",
   "metadata": {},
   "source": [
    "```4. What method takes a list argument and writes it to a CSV file?```\n",
    "\n",
    "```\n",
    "Ans: .writerow([\"xyz\"])\n",
    "```"
   ]
  },
  {
   "cell_type": "markdown",
   "metadata": {},
   "source": [
    "```5. What do the keyword arguments delimiter and line terminator do?```\n",
    "\n",
    "```\n",
    "Ans: \n",
    "```"
   ]
  },
  {
   "cell_type": "code",
   "execution_count": 19,
   "metadata": {},
   "outputs": [],
   "source": [
    "# delimiter can be modified usng below code\n",
    "\n",
    "import csv\n",
    "\n",
    "with open(\"scrap.csv\", \"w\", newline=\"\") as file1:\n",
    "    writerr = csv.writer(file1, delimiter=\";\")\n",
    "\n",
    "    writerr.writerow([\"Firstname\",\"Middlename\",\"Surname\"])\n",
    "    writerr.writerow([\"father\", \"Mother\", \"brother\"])"
   ]
  },
  {
   "cell_type": "code",
   "execution_count": 20,
   "metadata": {},
   "outputs": [],
   "source": [
    "# lineterminator can be modified using below code\n",
    "import csv\n",
    "\n",
    "with open(\"scrap.csv\", \"w\", newline=\"\") as file1:\n",
    "    writerr = csv.writer(file1, lineterminator= \"\\r\\n\")\n",
    "\n",
    "    writerr.writerow([\"Firstname\",\"Middlename\",\"Surname\"])\n",
    "    writerr.writerow([\"father\", \"Mother\", \"brother\"])"
   ]
  },
  {
   "cell_type": "markdown",
   "metadata": {},
   "source": [
    "```6. What function takes a string of JSON data and returns a Python data structure?```\n",
    "\n",
    "```\n",
    "Ans:\n",
    "```"
   ]
  },
  {
   "cell_type": "code",
   "execution_count": 26,
   "metadata": {},
   "outputs": [
    {
     "name": "stdout",
     "output_type": "stream",
     "text": [
      "{'name': 'Dnyanesh', 'education': 'master'}\n"
     ]
    }
   ],
   "source": [
    "import json\n",
    "\n",
    "jsonstring = '{\"name\":\"Dnyanesh\", \"education\":\"master\"}'\n",
    "\n",
    "python_data = json.loads(jsonstring)\n",
    "\n",
    "print(python_data)"
   ]
  },
  {
   "cell_type": "markdown",
   "metadata": {},
   "source": [
    "```7. What function takes a Python data structure and returns a string of JSON data?```\n",
    "\n",
    "```\n",
    "Ans:\n",
    "```"
   ]
  },
  {
   "cell_type": "code",
   "execution_count": 25,
   "metadata": {},
   "outputs": [
    {
     "name": "stdout",
     "output_type": "stream",
     "text": [
      "{\"age\": 33, \"year\": 2024}\n"
     ]
    }
   ],
   "source": [
    "import json\n",
    "\n",
    "python_data = {\"age\": 33,  \"year\": 2024}\n",
    "\n",
    "json_data = json.dumps(python_data)\n",
    "\n",
    "print(json_data)"
   ]
  }
 ],
 "metadata": {
  "kernelspec": {
   "display_name": "Python 3",
   "language": "python",
   "name": "python3"
  },
  "language_info": {
   "codemirror_mode": {
    "name": "ipython",
    "version": 3
   },
   "file_extension": ".py",
   "mimetype": "text/x-python",
   "name": "python",
   "nbconvert_exporter": "python",
   "pygments_lexer": "ipython3",
   "version": "3.8.0"
  }
 },
 "nbformat": 4,
 "nbformat_minor": 2
}
