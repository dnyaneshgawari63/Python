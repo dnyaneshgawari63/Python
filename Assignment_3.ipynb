{
 "cells": [
  {
   "attachments": {},
   "cell_type": "markdown",
   "metadata": {},
   "source": [
    "1. Why are functions advantageous to have in your programs?"
   ]
  },
  {
   "attachments": {},
   "cell_type": "markdown",
   "metadata": {},
   "source": [
    "Ans. Functions can have multiple blocks of codes, where you can pass multiple parameters or arguments. We can break down code into more pieces, which makes usability of the code easy. Functions can be reused in code, and can be called multiple times in programme."
   ]
  },
  {
   "attachments": {},
   "cell_type": "markdown",
   "metadata": {},
   "source": [
    "2. When does the code in a function run: when it's specified or when it's called?"
   ]
  },
  {
   "attachments": {},
   "cell_type": "markdown",
   "metadata": {},
   "source": [
    "Ans. Code runs in a function when it is called not when specified. (below is the exmple)"
   ]
  },
  {
   "cell_type": "code",
   "execution_count": 99,
   "metadata": {},
   "outputs": [],
   "source": [
    "\n",
    "def addition(num1, num2):\n",
    "    add = num1 + num2\n",
    "    return add"
   ]
  },
  {
   "cell_type": "code",
   "execution_count": 100,
   "metadata": {},
   "outputs": [
    {
     "data": {
      "text/plain": [
       "155"
      ]
     },
     "execution_count": 100,
     "metadata": {},
     "output_type": "execute_result"
    }
   ],
   "source": [
    "addition(55,100)"
   ]
  },
  {
   "attachments": {},
   "cell_type": "markdown",
   "metadata": {},
   "source": [
    "3. What statement creates a function?\n",
    "\n",
    "Ans. def abc():"
   ]
  },
  {
   "attachments": {},
   "cell_type": "markdown",
   "metadata": {},
   "source": [
    "4. What is the difference between a function and a function call?\n",
    "\n",
    "Ans. (below)"
   ]
  },
  {
   "cell_type": "code",
   "execution_count": 101,
   "metadata": {},
   "outputs": [],
   "source": [
    "# This is called function\n",
    "def xyz(alpha):\n",
    "    for x in alpha:\n",
    "        print(x)"
   ]
  },
  {
   "cell_type": "code",
   "execution_count": 102,
   "metadata": {},
   "outputs": [
    {
     "name": "stdout",
     "output_type": "stream",
     "text": [
      "d\n",
      "n\n",
      "y\n",
      "a\n",
      "n\n",
      "e\n",
      "s\n",
      "h\n"
     ]
    }
   ],
   "source": [
    "# This is called functional call\n",
    "xyz(\"dnyanesh\")"
   ]
  },
  {
   "attachments": {},
   "cell_type": "markdown",
   "metadata": {},
   "source": [
    "5. How many global scopes are there in a Python program? How many local scopes?\n",
    "\n",
    "Ans. There is only one global scope where as there can be multiple local scopes, as variable under local scope is within the function or can be under loop. Global scope variable can be called outside of the function but local scope can not."
   ]
  },
  {
   "cell_type": "code",
   "execution_count": 103,
   "metadata": {},
   "outputs": [],
   "source": [
    "x = 10\n",
    "\n",
    "def global_scope():\n",
    "    print(x)\n",
    "    \n",
    "    y = 7\n",
    "    print(y)"
   ]
  },
  {
   "cell_type": "code",
   "execution_count": 104,
   "metadata": {},
   "outputs": [
    {
     "name": "stdout",
     "output_type": "stream",
     "text": [
      "10\n",
      "7\n",
      "10\n"
     ]
    }
   ],
   "source": [
    "global_scope() # both local and local can be called under function call\n",
    "print(x) # It come under global scope so it is executing\n",
    "# print(y) will give error as it comes under local scope"
   ]
  },
  {
   "attachments": {},
   "cell_type": "markdown",
   "metadata": {},
   "source": [
    "6. What happens to variables in a local scope when the function call returns?\n",
    "\n",
    "Ans. variable does not exist or callable after function call returns, below example;"
   ]
  },
  {
   "cell_type": "code",
   "execution_count": 105,
   "metadata": {},
   "outputs": [],
   "source": [
    "def abc():\n",
    "    xy = 500\n",
    "    return x"
   ]
  },
  {
   "cell_type": "code",
   "execution_count": 106,
   "metadata": {},
   "outputs": [
    {
     "data": {
      "text/plain": [
       "10"
      ]
     },
     "execution_count": 106,
     "metadata": {},
     "output_type": "execute_result"
    }
   ],
   "source": [
    "abc()"
   ]
  },
  {
   "attachments": {},
   "cell_type": "markdown",
   "metadata": {},
   "source": [
    "7. What is the concept of a return value? Is it possible to have a return value in an expression?"
   ]
  },
  {
   "attachments": {},
   "cell_type": "markdown",
   "metadata": {},
   "source": [
    "Ans. Yes, its is possible to have return value in expression. Below example;"
   ]
  },
  {
   "cell_type": "code",
   "execution_count": 107,
   "metadata": {},
   "outputs": [],
   "source": [
    "def area_square(side1):\n",
    "    x = side1**2\n",
    "    return x"
   ]
  },
  {
   "cell_type": "code",
   "execution_count": 108,
   "metadata": {},
   "outputs": [
    {
     "data": {
      "text/plain": [
       "1144"
      ]
     },
     "execution_count": 108,
     "metadata": {},
     "output_type": "execute_result"
    }
   ],
   "source": [
    "var2 = area_square(12) + 1000\n",
    "\n",
    "var2"
   ]
  },
  {
   "attachments": {},
   "cell_type": "markdown",
   "metadata": {},
   "source": [
    "8. If a function does not have a return statement, what is the return value of a call to that function?\n",
    "\n",
    "Ans. If the function has no return statement, then the function call give nothing value or nothing."
   ]
  },
  {
   "cell_type": "code",
   "execution_count": 109,
   "metadata": {},
   "outputs": [],
   "source": [
    "def fun(x,y):\n",
    "    result = x + y"
   ]
  },
  {
   "cell_type": "code",
   "execution_count": 110,
   "metadata": {},
   "outputs": [],
   "source": [
    "fun(5,6)"
   ]
  },
  {
   "attachments": {},
   "cell_type": "markdown",
   "metadata": {},
   "source": [
    "9. How do you make a function variable refer to the global variable?"
   ]
  },
  {
   "attachments": {},
   "cell_type": "markdown",
   "metadata": {},
   "source": [
    "Ans. We can use global key word inside function before global variable. Which will refrer local scope as global when called with function name followed by print. Example below;"
   ]
  },
  {
   "cell_type": "code",
   "execution_count": 111,
   "metadata": {},
   "outputs": [],
   "source": [
    "x22 = 10\n",
    "\n",
    "def my_function():\n",
    "    global x22\n",
    "    x22 = 5\n",
    "    return x"
   ]
  },
  {
   "cell_type": "code",
   "execution_count": 112,
   "metadata": {},
   "outputs": [
    {
     "name": "stdout",
     "output_type": "stream",
     "text": [
      "5\n"
     ]
    }
   ],
   "source": [
    "my_function()\n",
    "print(x22)"
   ]
  },
  {
   "attachments": {},
   "cell_type": "markdown",
   "metadata": {},
   "source": [
    "10. What is the data type of None?\n",
    "\n",
    "Ans. Nonetype"
   ]
  },
  {
   "cell_type": "code",
   "execution_count": 113,
   "metadata": {},
   "outputs": [],
   "source": [
    "var3 = None"
   ]
  },
  {
   "cell_type": "code",
   "execution_count": 114,
   "metadata": {},
   "outputs": [
    {
     "data": {
      "text/plain": [
       "NoneType"
      ]
     },
     "execution_count": 114,
     "metadata": {},
     "output_type": "execute_result"
    }
   ],
   "source": [
    "type(var3)"
   ]
  },
  {
   "attachments": {},
   "cell_type": "markdown",
   "metadata": {},
   "source": [
    "11. What does the sentence import are all your pets named eric do?\n",
    "\n",
    "Ans. \"import are all your pets named eric\" as a sentence dont have any logical meaning in the context of programming. But, when seperated, \"import\" tends to reveal importing module, \"all\" is a inbuilt keyword, which gives boolean value when called. And, eric is a python editor or IDE. In other context, we can say in funny way that its about module, class and object level or modular programming. In a way that we can write modules and could name them after pets (ha ha ha ha ha)."
   ]
  },
  {
   "cell_type": "code",
   "execution_count": 115,
   "metadata": {},
   "outputs": [
    {
     "data": {
      "text/plain": [
       "False"
      ]
     },
     "execution_count": 115,
     "metadata": {},
     "output_type": "execute_result"
    }
   ],
   "source": [
    "abc = (0,\"dfass\",23423)\n",
    "\n",
    "all(abc)"
   ]
  },
  {
   "attachments": {},
   "cell_type": "markdown",
   "metadata": {},
   "source": [
    "12. If you had a bacon() feature in a spam module, what would you call it after importing spam?\n",
    "\n",
    "Ans. \n",
    "\n",
    "import spasm \n",
    "spasm.bacon()"
   ]
  },
  {
   "attachments": {},
   "cell_type": "markdown",
   "metadata": {},
   "source": [
    "13. What can you do to save a programme from crashing if it encounters an error?\n",
    "\n",
    "Ans. We can use the exception handling using try, except, else and finnaly."
   ]
  },
  {
   "cell_type": "code",
   "execution_count": 101,
   "metadata": {},
   "outputs": [],
   "source": [
    "'''\n",
    "Below code will give you area of triangle in either numerical or decimal values only.\n",
    "The biggest challenge was how to give either decimal or int as input, that difficulty was handled by except ValueError block. (It took me entire day to figure out, amazing learning)\n",
    "If you try to give input other than them, it will handle thrown error using except Exception block.\n",
    "'''\n",
    "\n",
    "def area_triangle():\n",
    "        try:\n",
    "            try:\n",
    "                b = float(input(\"enter breadth\"))\n",
    "            except ValueError:\n",
    "                b = int(input(\"enter breadth\"))\n",
    "            try:\n",
    "                h = float(input(\"enter height\"))\n",
    "            except ValueError:\n",
    "                h = int(input(\"enter height\"))\n",
    "        except Exception:\n",
    "             print(\"please enter in numerical or decimal format only\")\n",
    "        else:\n",
    "            result = 1/2 * b * h\n",
    "            print(f\"The area of the traingle is {result} sq unit.\")"
   ]
  },
  {
   "cell_type": "code",
   "execution_count": 100,
   "metadata": {},
   "outputs": [
    {
     "name": "stdout",
     "output_type": "stream",
     "text": [
      "The area of the traingle is 3817.28 sq unit.\n"
     ]
    }
   ],
   "source": [
    "area_triangle()"
   ]
  },
  {
   "attachments": {},
   "cell_type": "markdown",
   "metadata": {},
   "source": [
    "14. What is the purpose of the try clause? What is the purpose of the except clause?\n",
    "\n",
    "Ans. try block let you test your code while except block handles the exception as we have already seen in above question."
   ]
  },
  {
   "cell_type": "code",
   "execution_count": 153,
   "metadata": {},
   "outputs": [
    {
     "name": "stdout",
     "output_type": "stream",
     "text": [
      "Please add into correct format\n"
     ]
    }
   ],
   "source": [
    "try:\n",
    "    a = int(jkj)\n",
    "    print(a)\n",
    "except NameError:\n",
    "    print(\"Please add into correct format\")\n",
    "except ValueError:\n",
    "    print(\"Please give numbers\")\n"
   ]
  },
  {
   "cell_type": "code",
   "execution_count": 157,
   "metadata": {},
   "outputs": [
    {
     "name": "stdout",
     "output_type": "stream",
     "text": [
      "Please give numbers\n"
     ]
    }
   ],
   "source": [
    "try:\n",
    "    a = int(\"jhj23\")\n",
    "    print(a)\n",
    "except NameError:\n",
    "    print(\"Please add into correct format\")\n",
    "except ValueError:\n",
    "    print(\"Please give numbers\")"
   ]
  },
  {
   "cell_type": "code",
   "execution_count": 159,
   "metadata": {},
   "outputs": [
    {
     "name": "stdout",
     "output_type": "stream",
     "text": [
      "456464\n"
     ]
    }
   ],
   "source": [
    "try:\n",
    "    a = int(456464)\n",
    "    print(a)\n",
    "except NameError:\n",
    "    print(\"Please add into correct format\")\n",
    "except ValueError:\n",
    "    print(\"Please give numbers\")"
   ]
  }
 ],
 "metadata": {
  "kernelspec": {
   "display_name": "Python 3",
   "language": "python",
   "name": "python3"
  },
  "language_info": {
   "codemirror_mode": {
    "name": "ipython",
    "version": 3
   },
   "file_extension": ".py",
   "mimetype": "text/x-python",
   "name": "python",
   "nbconvert_exporter": "python",
   "pygments_lexer": "ipython3",
   "version": "3.10.7"
  },
  "orig_nbformat": 4
 },
 "nbformat": 4,
 "nbformat_minor": 2
}
