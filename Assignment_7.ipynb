{
 "cells": [
  {
   "attachments": {},
   "cell_type": "markdown",
   "metadata": {},
   "source": [
    "1. What is the name of the feature responsible for generating Regex objects?\n",
    "\n",
    "Ans. re.compile()"
   ]
  },
  {
   "cell_type": "code",
   "execution_count": 63,
   "metadata": {},
   "outputs": [
    {
     "name": "stdout",
     "output_type": "stream",
     "text": [
      "['asd', 'asd', 'asd', 'asd']\n",
      "4\n"
     ]
    }
   ],
   "source": [
    "import re\n",
    "\n",
    "pattern = r\"asd\"\n",
    "\n",
    "regex = re.compile(pattern)\n",
    "\n",
    "text = \"23r2f,asdf,sadf,df,,saffwff,wfd/,oneasdfsd sdf,,,,oneasddda asds\"\n",
    "\n",
    "result = regex.findall(text)\n",
    "\n",
    "print(result)\n",
    "print(len(result))"
   ]
  },
  {
   "attachments": {},
   "cell_type": "markdown",
   "metadata": {},
   "source": [
    "2. Why do raw strings often appear in Regex objects?"
   ]
  },
  {
   "attachments": {},
   "cell_type": "markdown",
   "metadata": {},
   "source": [
    "Ans. \n",
    "In case of characters such as back slash will be treated as text literals in raw string.\n",
    "Raw string is denoted by r\"xyz\".\n"
   ]
  },
  {
   "attachments": {},
   "cell_type": "markdown",
   "metadata": {},
   "source": [
    "3. What is the return value of the search() method?"
   ]
  },
  {
   "cell_type": "code",
   "execution_count": 64,
   "metadata": {},
   "outputs": [
    {
     "name": "stdout",
     "output_type": "stream",
     "text": [
      "<re.Match object; span=(33, 36), match='one'>\n"
     ]
    }
   ],
   "source": [
    "import re\n",
    "\n",
    "text = (\"23r2f,asdf,sadf,df,,saffwff,wfd/,oneasdfsd one sdf,,,,one asddda asds\")\n",
    "\n",
    "pattern = r\"one\"\n",
    "\n",
    "regex = re.compile(pattern)\n",
    "\n",
    "result = regex.search(text)\n",
    "print(result)"
   ]
  },
  {
   "attachments": {},
   "cell_type": "markdown",
   "metadata": {},
   "source": [
    "4. From a Match item, how do you get the actual strings that match the pattern?\n",
    "\n",
    "Ans."
   ]
  },
  {
   "cell_type": "code",
   "execution_count": 65,
   "metadata": {},
   "outputs": [
    {
     "name": "stdout",
     "output_type": "stream",
     "text": [
      "Matched string: asd,\n"
     ]
    }
   ],
   "source": [
    "# regex\n",
    "\n",
    "import re\n",
    "\n",
    "text = \"asdasd,fd,foiqut,sdkffimei[mqim  mim     mewr,vkvvjkskfvlfew;''filter;'e[p2o347238752930440i&^%^%^h7&i8yoh]]\"\n",
    "\n",
    "pattern = r\"asd,\"\n",
    "\n",
    "regex = re.compile(pattern)\n",
    "\n",
    "result = regex.search(text)\n",
    "\n",
    "if result:\n",
    "    result1 = result.group()\n",
    "    print(\"Matched string:\", result1)\n",
    "else:\n",
    "    print(\"Search string did not match with anything\")"
   ]
  },
  {
   "attachments": {},
   "cell_type": "markdown",
   "metadata": {},
   "source": [
    "5. In the regex which created from the r'(\\d\\d\\d)-(\\d\\d\\d-\\d\\d\\d\\d)', what does group zero cover? Group 2? Group 1?\n",
    "\n",
    "Ans. Group Zero covers entire capturing string, group one covers the first capturing group (3 digits) and second group covers second capturing group (7 digits one)."
   ]
  },
  {
   "cell_type": "code",
   "execution_count": 66,
   "metadata": {},
   "outputs": [
    {
     "name": "stdout",
     "output_type": "stream",
     "text": [
      "235\n",
      "503-2023\n"
     ]
    }
   ],
   "source": [
    "import re\n",
    "\n",
    "pattern = r\"(\\d\\d\\d)-(\\d\\d\\d-\\d\\d\\d\\d)\"\n",
    "\n",
    "text = \"Its wonderful to know all you today 235-503-2023\"\n",
    "\n",
    "regex = re.search(pattern,text)\n",
    "\n",
    "result111 = regex.group(1)\n",
    "result222 = regex.group(2)\n",
    "\n",
    "print(result111)\n",
    "print(result222)"
   ]
  },
  {
   "attachments": {},
   "cell_type": "markdown",
   "metadata": {},
   "source": [
    "6. In standard expression syntax, parentheses and intervals have distinct meanings. How can you tell a regex that you want it to fit real parentheses and periods?\n",
    "\n",
    "Ans. We use backslash to address periods and parenthesis in regex."
   ]
  },
  {
   "cell_type": "code",
   "execution_count": 67,
   "metadata": {},
   "outputs": [
    {
     "data": {
      "text/plain": [
       "<re.Match object; span=(41, 55), match='[hi bhau  . .]'>"
      ]
     },
     "execution_count": 67,
     "metadata": {},
     "output_type": "execute_result"
    }
   ],
   "source": [
    "import re\n",
    "\n",
    "pattern = r\"\\[hi bhau  . .]\"\n",
    "\n",
    "sequence = \"They said to him hi and kas kai chalalay [hi bhau  . .]\"\n",
    "\n",
    "regex = re.compile(pattern)\n",
    "\n",
    "result = regex.search(sequence)\n",
    "\n",
    "result"
   ]
  },
  {
   "attachments": {},
   "cell_type": "markdown",
   "metadata": {},
   "source": [
    "7. The findall() method returns a string list or a list of string tuples. What causes it to return one of the two options?\n",
    "\n",
    "Ans. findall method in regex returns values in list while findall with more than one group returns values in tuples inside list. Below example."
   ]
  },
  {
   "cell_type": "code",
   "execution_count": 68,
   "metadata": {},
   "outputs": [
    {
     "name": "stdout",
     "output_type": "stream",
     "text": [
      "[('32', '34')]\n",
      "['noon']\n"
     ]
    }
   ],
   "source": [
    "text = \"Today was great weather, afternoon with 32-34 degrees was little warm\"\n",
    "\n",
    "pattern = r\"(\\d\\d)-(\\d\\d)\"\n",
    "\n",
    "result = re.findall(pattern, text)\n",
    "\n",
    "print(result)\n",
    "\n",
    "pattern2 = r\"noon\"\n",
    "\n",
    "result2 = re.findall(pattern2,text)\n",
    "\n",
    "print(result2)"
   ]
  },
  {
   "attachments": {},
   "cell_type": "markdown",
   "metadata": {},
   "source": [
    "8. In standard expressions, what does the | character mean?\n",
    "\n",
    "Ans. It means 'or' in layman's language."
   ]
  },
  {
   "cell_type": "code",
   "execution_count": 69,
   "metadata": {},
   "outputs": [
    {
     "name": "stdout",
     "output_type": "stream",
     "text": [
      "<re.Match object; span=(8, 12), match='Rina'>\n",
      "Rina\n",
      "Meena\n"
     ]
    }
   ],
   "source": [
    "import re\n",
    "text = \"Is that Rina, and Priya, Meena, Madhuri standing at metro stop\"\n",
    "\n",
    "pattern = r\"Meena|Rina\"\n",
    "regex = re.compile(pattern)\n",
    "\n",
    "print(regex.search(text))\n",
    "\n",
    "# using for loop to find \n",
    "for te in text.split():\n",
    "    if regex.search(te):\n",
    "        te = list(te)[:-1]\n",
    "        te = \"\".join(te)\n",
    "        print(te)"
   ]
  },
  {
   "attachments": {},
   "cell_type": "markdown",
   "metadata": {},
   "source": [
    "9. In regular expressions, what does the character stand for?\n",
    "\n",
    "Ans. Except the special meaning characters in regex example ( ) [] {} . * ? $ etc,. regex treats characters such = 9 @ as = 9 @ respectively as it is in a string."
   ]
  },
  {
   "attachments": {},
   "cell_type": "markdown",
   "metadata": {},
   "source": [
    "10. In regular expressions, what is the difference between the + and * characters?"
   ]
  },
  {
   "cell_type": "code",
   "execution_count": 70,
   "metadata": {},
   "outputs": [
    {
     "data": {
      "text/plain": [
       "['0', '00', '1', '2', '3', '445', '3240', '00438']"
      ]
     },
     "execution_count": 70,
     "metadata": {},
     "output_type": "execute_result"
    }
   ],
   "source": [
    "import re\n",
    "\n",
    "raw_string = ' 0 00  1 2 3 445 3240 00438'\n",
    "\n",
    "pattern = r\"[0-9]+\"\n",
    "\n",
    "result =    re.findall(pattern,raw_string)\n",
    "\n",
    "result"
   ]
  },
  {
   "cell_type": "code",
   "execution_count": 71,
   "metadata": {},
   "outputs": [
    {
     "name": "stdout",
     "output_type": "stream",
     "text": [
      "['', '0', '', '00', '', '', '1', '', '2', '', '3', '', '445', '', '3240', '', '00438', '']"
     ]
    }
   ],
   "source": [
    "import re\n",
    "\n",
    "raw_string = ' 0 00  1 2 3 445 3240 00438'\n",
    "\n",
    "pattern = r\"[0-9]*\"\n",
    "\n",
    "result =    re.findall(pattern,raw_string)\n",
    "\n",
    "print(result, end= \"\")"
   ]
  },
  {
   "attachments": {},
   "cell_type": "markdown",
   "metadata": {},
   "source": [
    "11. What is the difference between {4} and {4,5} in regular expression?\n",
    "\n",
    "Ans. It {4} finds the pattern upto 4th character in a raw string whereas {4,5} finds in the range of 4 to 5."
   ]
  },
  {
   "cell_type": "code",
   "execution_count": 72,
   "metadata": {},
   "outputs": [
    {
     "name": "stdout",
     "output_type": "stream",
     "text": [
      "['hhhhh', 'hhhh']\n",
      "2\n"
     ]
    }
   ],
   "source": [
    "text = \"asdaks;hhhhh fhhhh sjdfhhh\"\n",
    "pattern = r\"h{4,5}\"\n",
    "\n",
    "result = re.findall(pattern,text)\n",
    "\n",
    "print(result)\n",
    "print(len(result))\n"
   ]
  },
  {
   "attachments": {},
   "cell_type": "markdown",
   "metadata": {},
   "source": [
    "12. What do you mean by the \\d, \\w, and \\s shorthand character classes signify in regular expressions?\n",
    "\n",
    "Ans. \n",
    "\\d matches to a string where digit presented.\n",
    "\\w matches to a string includes alphanumeric character.\n",
    "\\s gives whtespace output after matching string.\n"
   ]
  },
  {
   "cell_type": "code",
   "execution_count": 73,
   "metadata": {},
   "outputs": [
    {
     "name": "stdout",
     "output_type": "stream",
     "text": [
      "['2', '3']\n"
     ]
    }
   ],
   "source": [
    "import re\n",
    "\n",
    "text = \"I have been searching rent house since long about 2 to 3 months\"\n",
    "\n",
    "pattern = r\"\\d\"\n",
    "\n",
    "output = re.findall(pattern, text)\n",
    "\n",
    "print(output)"
   ]
  },
  {
   "cell_type": "code",
   "execution_count": 74,
   "metadata": {},
   "outputs": [
    {
     "name": "stdout",
     "output_type": "stream",
     "text": [
      "I\n"
     ]
    }
   ],
   "source": [
    "import re\n",
    "\n",
    "text  = \"It was Wonderful song 45646\"\n",
    "\n",
    "pattern = r\"\\w\"\n",
    "\n",
    "output = re.search(pattern, text)\n",
    "\n",
    "print(output.group())"
   ]
  },
  {
   "cell_type": "code",
   "execution_count": 75,
   "metadata": {},
   "outputs": [
    {
     "name": "stdout",
     "output_type": "stream",
     "text": [
      " \n",
      "<re.Match object; span=(3, 4), match=' '>\n"
     ]
    }
   ],
   "source": [
    "import re\n",
    "\n",
    "text = \"Its time too \\t\\tcod \\re\"\n",
    "\n",
    "pattern = r\"\\s\"\n",
    "\n",
    "output = re.search(pattern,text)\n",
    "\n",
    "print(output.group())\n",
    "print(output)"
   ]
  },
  {
   "attachments": {},
   "cell_type": "markdown",
   "metadata": {},
   "source": [
    "13. What do means by \\D, \\W, and \\S shorthand character classes signify in regular expressions?"
   ]
  },
  {
   "attachments": {},
   "cell_type": "markdown",
   "metadata": {},
   "source": [
    "Ans. \\D matches to a non-digit string, \\W to a non-word characters including digits and underscore while \\S stands for non-whitespace characters."
   ]
  },
  {
   "cell_type": "code",
   "execution_count": 76,
   "metadata": {},
   "outputs": [
    {
     "name": "stdout",
     "output_type": "stream",
     "text": [
      "['W', 'e', ' ', 'g', 'o', 't', ' ', ' ', 'm', 'i', 'n', 'u', 't', 'e', 's', ' ', 'o', 'f', ' ', 't', 'i', 'm', 'e', ' ', 't', 'o', ' ', 'd', 'o', ' ', 'w', 'o', 'r', 'k']\n"
     ]
    }
   ],
   "source": [
    "import re\n",
    "\n",
    "text = \"We got 20 minutes of time to do work\"\n",
    "\n",
    "pattern = r\"\\D\"\n",
    "\n",
    "result = re.findall(pattern,text)\n",
    "\n",
    "print(result)"
   ]
  },
  {
   "cell_type": "code",
   "execution_count": 77,
   "metadata": {},
   "outputs": [
    {
     "name": "stdout",
     "output_type": "stream",
     "text": [
      "[' ', ' ', ' ', ' ', ' ', ' ', ' ', ',', ' ', '!', '@', '#', '$', ' ', '-', ' ', ' ', ' ', ' ', ' ', ' ', ' ', ' ', ' ']\n"
     ]
    }
   ],
   "source": [
    "import re\n",
    "text = \"lets take all _ _ accompanied numbers out, !@#$ - word boys can our code123 23432 4 do it\"\n",
    "pattern = r\"\\W\"\n",
    "result = re.findall(pattern,text)\n",
    "print(result)"
   ]
  },
  {
   "cell_type": "code",
   "execution_count": 78,
   "metadata": {},
   "outputs": [
    {
     "name": "stdout",
     "output_type": "stream",
     "text": [
      "['t', 'h', 'i', 's', 'l', 'i', 'n', 'e', 'g', 'o', 't', 'l', 'o', 't', 'o', 'f', 'r', 'o', 'o', 'm']\n"
     ]
    }
   ],
   "source": [
    "import re\n",
    "text = \"thi     s line go    t lot  of room\"\n",
    "pattern =r\"\\S\"\n",
    "result = re.findall(pattern,text)\n",
    "print(result)"
   ]
  },
  {
   "attachments": {},
   "cell_type": "markdown",
   "metadata": {},
   "source": [
    "14. What is the difference between .*? and .*?\n",
    "\n",
    "Ans: .*? will give every occurance in the string while .* will give first occurence of search pattern."
   ]
  },
  {
   "cell_type": "code",
   "execution_count": 79,
   "metadata": {},
   "outputs": [
    {
     "name": "stdout",
     "output_type": "stream",
     "text": [
      "['its', 'ining today. and i can s']\n"
     ]
    }
   ],
   "source": [
    "import re\n",
    "text = \"its raining today. and i can see it through the window\"\n",
    "pattern = r\"i.*?s\"\n",
    "result = re.findall(pattern, text)\n",
    "print(result)"
   ]
  },
  {
   "cell_type": "code",
   "execution_count": 80,
   "metadata": {},
   "outputs": [
    {
     "name": "stdout",
     "output_type": "stream",
     "text": [
      "['its raining today. and i can s']\n"
     ]
    }
   ],
   "source": [
    "import re\n",
    "text = \"its raining today. and i can see it through the window\"\n",
    "pattern = r\"i.*s\"\n",
    "result = re.findall(pattern, text)\n",
    "print(result)"
   ]
  },
  {
   "attachments": {},
   "cell_type": "markdown",
   "metadata": {},
   "source": [
    "15. What is the syntax for matching both numbers and lowercase letters with a character class?\n",
    "\n",
    "Ans:"
   ]
  },
  {
   "cell_type": "code",
   "execution_count": 81,
   "metadata": {},
   "outputs": [
    {
     "name": "stdout",
     "output_type": "stream",
     "text": [
      "['h', 'e', 's', 'e', '1', '5', 'o', '1', '8', 'l', 'a', 't', 'e', 's']\n"
     ]
    }
   ],
   "source": [
    "import re\n",
    "\n",
    "text = \"These 15 To 18 Plates\"\n",
    "\n",
    "pattern = r\"[a-z0-9]\"\n",
    "\n",
    "result = re.findall(pattern,text)\n",
    "\n",
    "print(result)"
   ]
  },
  {
   "attachments": {},
   "cell_type": "markdown",
   "metadata": {},
   "source": [
    "16. What is the procedure for making a normal expression in regax case insensitive?\n",
    "\n",
    "Ans: using IGNORECASE method"
   ]
  },
  {
   "cell_type": "code",
   "execution_count": 82,
   "metadata": {},
   "outputs": [
    {
     "name": "stdout",
     "output_type": "stream",
     "text": [
      "['Fixed']\n"
     ]
    }
   ],
   "source": [
    "import re\n",
    "\n",
    "text = \"Needs to be Fixed Now\"\n",
    "pattern = r\"fixed\"\n",
    "result = re.findall(pattern,text,re.IGNORECASE)\n",
    "print(result)\n"
   ]
  },
  {
   "attachments": {},
   "cell_type": "markdown",
   "metadata": {},
   "source": [
    "17. What does the . character normally match? What does it match if re.DOTALL is passed as 2nd\n",
    "argument in re.compile()?\n",
    "\n",
    "Ans."
   ]
  },
  {
   "cell_type": "code",
   "execution_count": 83,
   "metadata": {},
   "outputs": [
    {
     "name": "stdout",
     "output_type": "stream",
     "text": [
      "['heads up. Its \\n\\na dinner time.']\n"
     ]
    }
   ],
   "source": [
    "import re \n",
    "\n",
    "text = \"\"\"heads up. Its \n",
    "\n",
    "a dinner time.\"\"\"\n",
    "\n",
    "pattern = re.compile(r'.+', re.DOTALL)\n",
    "\n",
    "result = pattern.findall(text)\n",
    "\n",
    "print(result)\n",
    "\n"
   ]
  },
  {
   "cell_type": "code",
   "execution_count": 84,
   "metadata": {},
   "outputs": [
    {
     "name": "stdout",
     "output_type": "stream",
     "text": [
      "['Current world has been absolutely ', 'brain washed and deviated ', 'from the truth by so called psycho shits', 'at least for 1500 years.']\n"
     ]
    }
   ],
   "source": [
    "import re\n",
    "\n",
    "text = \"\"\"Current world has been absolutely \n",
    "brain washed and deviated \n",
    "from the truth by so called psycho shits\n",
    "at least for 1500 years.\"\"\"\n",
    "\n",
    "pattern = re.compile(r'.+')\n",
    "\n",
    "result = pattern.findall(text)\n",
    "\n",
    "print(result)"
   ]
  },
  {
   "attachments": {},
   "cell_type": "markdown",
   "metadata": {},
   "source": [
    "18. If numReg = re.compile(r&#39;\\d+&#39;), what will numReg.sub(&#39;X&#39;, &#39;11 drummers, 10 pipers, five rings, 4\n",
    "hen&#39;) return?"
   ]
  },
  {
   "cell_type": "code",
   "execution_count": 85,
   "metadata": {},
   "outputs": [
    {
     "data": {
      "text/plain": [
       "'X drummers, X pipers, five rings,X hen'"
      ]
     },
     "execution_count": 85,
     "metadata": {},
     "output_type": "execute_result"
    }
   ],
   "source": [
    "import re\n",
    "\n",
    "numReg = re.compile(r'\\d+')\n",
    "\n",
    "numReg.sub('X','11 drummers, 10 pipers, five rings,4 hen')"
   ]
  },
  {
   "attachments": {},
   "cell_type": "markdown",
   "metadata": {},
   "source": [
    "19. What does passing re.VERBOSE as the 2nd argument to re.compile() allow to do?\n",
    "\n",
    "Ans: re.VERBOSE as second argument to re.compile, it allows search pattern in re.compile to match exactly in the string. Where, other than given search pattern, all other whitespaaces, lines, or anything other than search pattern will be ignored. So, that the readability of the code enhances.\n",
    "\n",
    "Below both examples explain it well:"
   ]
  },
  {
   "cell_type": "code",
   "execution_count": 86,
   "metadata": {},
   "outputs": [
    {
     "name": "stdout",
     "output_type": "stream",
     "text": [
      "Valid number\n"
     ]
    }
   ],
   "source": [
    "import re\n",
    "\n",
    "pattern  = re.compile(r\"\\d{4} - \\d{2} - \\d{4}\", re.VERBOSE)\n",
    "\n",
    "result = pattern.search('Ganesh got few numbers one is 9999999999 and other is  9599-15-7722')\n",
    "\n",
    "if result:\n",
    "    print(\"Valid number\")\n",
    "else:\n",
    "    print(\"Invalid number\")"
   ]
  },
  {
   "cell_type": "code",
   "execution_count": 87,
   "metadata": {},
   "outputs": [
    {
     "name": "stdout",
     "output_type": "stream",
     "text": [
      "Invalid number\n"
     ]
    }
   ],
   "source": [
    "import re\n",
    "\n",
    "pattern  = re.compile(r\"\\d{4} - \\d{2} - \\d{4}\", re.VERBOSE)\n",
    "\n",
    "result = pattern.search('Ganesh got few numbers one is 9999999999')\n",
    "\n",
    "if result:\n",
    "    print(\"Valid number\")\n",
    "else:\n",
    "    print(\"Invalid number\")"
   ]
  },
  {
   "attachments": {},
   "cell_type": "markdown",
   "metadata": {},
   "source": [
    "20. How would you write a regex that match a number with comma for every three digits? It must\n",
    "match the given following:\n",
    "'42'\n",
    "'1,234'\n",
    "'6,368,745'\n",
    "\n",
    "but not the following:\n",
    "'12,34,567' (which has only two digits between the commas)\n",
    "'1234' (which lacks commas)\n",
    "\n",
    "\n",
    "\n",
    "Ans:"
   ]
  },
  {
   "cell_type": "code",
   "execution_count": 88,
   "metadata": {},
   "outputs": [
    {
     "name": "stdout",
     "output_type": "stream",
     "text": [
      "Theses are numbers upto three digits and comma: 42\n",
      "Theses are numbers upto three digits and comma: 1,234\n",
      "Theses are numbers upto three digits and comma: 6,368,745\n",
      "Unmatched numbers to the condition: 12,34,567\n",
      "Unmatched numbers to the condition: 1234\n"
     ]
    }
   ],
   "source": [
    "import re\n",
    "\n",
    "pattern = re.compile(r'^\\d{1,3}(,\\d{3})*$')\n",
    "\n",
    "string = ['42', '1,234', '6,368,745', '12,34,567', '1234']\n",
    "\n",
    "for strin in string:\n",
    "    if pattern.match(strin):\n",
    "        print(f\"Theses are numbers upto three digits and comma: {strin}\")\n",
    "    else:\n",
    "        print(f\"Unmatched numbers to the condition: {strin}\") "
   ]
  },
  {
   "attachments": {},
   "cell_type": "markdown",
   "metadata": {},
   "source": [
    "21. How would you write a regex that matches the full name of someone whose last name is\n",
    "Watanabe? You can assume that the first name that comes before it will always be one word that\n",
    "begins with a capital letter. The regex must match the following:\n",
    "\n",
    "'Haruto Watanabe'\n",
    "'Alice Watanabe'\n",
    "'RoboCop Watanabe'\n",
    "\n",
    "but not the following:\n",
    "'haruto Watanabe' (where the first name is not capitalized)\n",
    "'Mr. Watanabe' (where the preceding word has a nonletter character)\n",
    "'Watanabe' (which has no first name)\n",
    "'Haruto watanabe' (where Watanabe is not capitalized)"
   ]
  },
  {
   "cell_type": "code",
   "execution_count": 58,
   "metadata": {},
   "outputs": [
    {
     "name": "stdout",
     "output_type": "stream",
     "text": [
      "Haruto Watanabe\n",
      "Alice Watanabe\n",
      "RoboCop Watanabe\n",
      "Not match\n",
      "Not match\n",
      "Not match\n",
      "Not match\n"
     ]
    }
   ],
   "source": [
    "import re\n",
    "\n",
    "text = ['Haruto Watanabe','Alice Watanabe','RoboCop Watanabe','haruto Watanabe','Mr. Watanabe','Watanabe','Haruto watanabe']\n",
    "\n",
    "pattern = r'\\b[A-Z][a-zA-Z]* Watanabe\\b'\n",
    "\n",
    "for tex in text:\n",
    "    result = re.search(pattern, tex)\n",
    "    if result:\n",
    "        print(result.group())\n",
    "    else:\n",
    "        print(\"Not match\")"
   ]
  },
  {
   "cell_type": "code",
   "execution_count": 65,
   "metadata": {},
   "outputs": [
    {
     "name": "stdout",
     "output_type": "stream",
     "text": [
      "Not match\n",
      "Not match\n",
      "Dnyanesh Gawari\n",
      "Not match\n",
      "Not match\n"
     ]
    }
   ],
   "source": [
    "import re\n",
    "\n",
    "text = [\"dnyanesh gawari\", \"Dnyanesh gawari\", \"Dnyanesh Gawari\", \"dnyanesh Gawari\", \"Mr. Gawari\"]\n",
    "\n",
    "pattern = r\"\\b[A-Z][a-zA-Z]* Gawari\\b\"\n",
    "\n",
    "for tex in text:\n",
    "    result = re.search(pattern,tex)\n",
    "    if result:\n",
    "        print(result.group())\n",
    "    else:\n",
    "        print(\"Not match\")"
   ]
  },
  {
   "attachments": {},
   "cell_type": "markdown",
   "metadata": {},
   "source": [
    "22. How would you write a regex that matches a sentence where the first word is either Alice, Bob,\n",
    "or Carol; the second word is either eats, pets, or throws; the third word is apples, cats, or baseballs;\n",
    "and the sentence ends with a period? This regex should be case-insensitive. \n",
    "\n",
    "It must match the following:\n",
    "\n",
    "'Alice eats apples.'\n",
    "'Bob pets cats.'\n",
    "'Carol throws baseballs.'\n",
    "'Alice throws Apples.'\n",
    "'BOB EATS CATS.'\n",
    "\n",
    "but not the following:\n",
    "\n",
    "'RoboCop eats apples.'\n",
    "'ALICE THROWS FOOTBALLS.'\n",
    "'Carol eats 7 cats.'"
   ]
  },
  {
   "cell_type": "code",
   "execution_count": 13,
   "metadata": {},
   "outputs": [
    {
     "name": "stdout",
     "output_type": "stream",
     "text": [
      "These are matched:  Alice eats apples.\n",
      "These are matched:  Bob pets cats.\n",
      "These are matched:  Carol throws baseballs.\n",
      "These are matched:  Alice throws Apples.\n",
      "These Not matched:    BOB EATS CATS.\n",
      "These Not matched:    RoboCop eats apples.\n",
      "These Not matched:    ALICE THROWS FOOTBALLS.\n",
      "These Not matched:    Carol eats 7 cats.\n"
     ]
    }
   ],
   "source": [
    "import re\n",
    "\n",
    "text = ['Alice eats apples.', 'Bob pets cats.', 'Carol throws baseballs.', 'Alice throws Apples.', 'BOB EATS CATS.', 'RoboCop eats apples.', 'ALICE THROWS FOOTBALLS.', 'Carol eats 7 cats.']\n",
    "\n",
    "pattern  = r\"^([[Aa]lice|[Bb]ob|[Cc]arol) ([Ee]ats|[Pp]ets|[Tt]hrows) ([Aa]pples|[Cc]ats|[Bb]aseballs)\\.$\"\n",
    "\n",
    "for tex in text:\n",
    "    result = re.match(pattern, tex)\n",
    "\n",
    "    if result:\n",
    "        print(f\"These are matched:  {result.group()}\")\n",
    "    else:\n",
    "        print(f\"These Not matched:    {tex}\")\n"
   ]
  }
 ],
 "metadata": {
  "kernelspec": {
   "display_name": "Python 3",
   "language": "python",
   "name": "python3"
  },
  "language_info": {
   "codemirror_mode": {
    "name": "ipython",
    "version": 3
   },
   "file_extension": ".py",
   "mimetype": "text/x-python",
   "name": "python",
   "nbconvert_exporter": "python",
   "pygments_lexer": "ipython3",
   "version": "3.10.7"
  },
  "orig_nbformat": 4,
  "vscode": {
   "interpreter": {
    "hash": "2145c8c19aa62e7649ada51f9010922e5a86870bc6853880038de552a1be3453"
   }
  }
 },
 "nbformat": 4,
 "nbformat_minor": 2
}
