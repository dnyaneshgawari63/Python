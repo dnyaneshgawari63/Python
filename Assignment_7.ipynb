{
 "cells": [
  {
   "attachments": {},
   "cell_type": "markdown",
   "metadata": {},
   "source": [
    "1. What is the name of the feature responsible for generating Regex objects?\n",
    "\n",
    "Ans. re.compile()"
   ]
  },
  {
   "cell_type": "code",
   "execution_count": 6,
   "metadata": {},
   "outputs": [
    {
     "name": "stdout",
     "output_type": "stream",
     "text": [
      "['asd', 'asd', 'asd', 'asd']\n",
      "4\n"
     ]
    }
   ],
   "source": [
    "import re\n",
    "\n",
    "pattern = r\"asd\"\n",
    "\n",
    "regex = re.compile(pattern)\n",
    "\n",
    "text = \"23r2f,asdf,sadf,df,,saffwff,wfd/,oneasdfsd sdf,,,,oneasddda asds\"\n",
    "\n",
    "result = regex.findall(text)\n",
    "\n",
    "print(result)\n",
    "print(len(result))"
   ]
  },
  {
   "attachments": {},
   "cell_type": "markdown",
   "metadata": {},
   "source": [
    "2. Why do raw strings often appear in Regex objects?"
   ]
  },
  {
   "attachments": {},
   "cell_type": "markdown",
   "metadata": {},
   "source": [
    "Ans. \n",
    "In case of characters such as back slash will be treated as text literals in raw string.\n",
    "Raw string is denoted by r\"xyz\".\n"
   ]
  },
  {
   "attachments": {},
   "cell_type": "markdown",
   "metadata": {},
   "source": [
    "3. What is the return value of the search() method?"
   ]
  },
  {
   "cell_type": "code",
   "execution_count": 7,
   "metadata": {},
   "outputs": [
    {
     "name": "stdout",
     "output_type": "stream",
     "text": [
      "<re.Match object; span=(33, 36), match='one'>\n"
     ]
    }
   ],
   "source": [
    "import re\n",
    "\n",
    "text = (\"23r2f,asdf,sadf,df,,saffwff,wfd/,oneasdfsd one sdf,,,,one asddda asds\")\n",
    "\n",
    "pattern = r\"one\"\n",
    "\n",
    "regex = re.compile(pattern)\n",
    "\n",
    "result = regex.search(text)\n",
    "print(result)"
   ]
  },
  {
   "attachments": {},
   "cell_type": "markdown",
   "metadata": {},
   "source": [
    "4. From a Match item, how do you get the actual strings that match the pattern?\n",
    "\n",
    "Ans."
   ]
  },
  {
   "cell_type": "code",
   "execution_count": 8,
   "metadata": {},
   "outputs": [
    {
     "name": "stdout",
     "output_type": "stream",
     "text": [
      "Matched string: asd,\n"
     ]
    }
   ],
   "source": [
    "# regex\n",
    "\n",
    "import re\n",
    "\n",
    "text = \"asdasd,fd,foiqut,sdkffimei[mqim  mim     mewr,vkvvjkskfvlfew;''filter;'e[p2o347238752930440i&^%^%^h7&i8yoh]]\"\n",
    "\n",
    "pattern = r\"asd,\"\n",
    "\n",
    "regex = re.compile(pattern)\n",
    "\n",
    "result = regex.search(text)\n",
    "\n",
    "if result:\n",
    "    result1 = result.group()\n",
    "    print(\"Matched string:\", result1)\n",
    "else:\n",
    "    print(\"Search string did not match with anything\")"
   ]
  },
  {
   "attachments": {},
   "cell_type": "markdown",
   "metadata": {},
   "source": [
    "5. In the regex which created from the r'(\\d\\d\\d)-(\\d\\d\\d-\\d\\d\\d\\d)', what does group zero cover? Group 2? Group 1?\n",
    "\n",
    "Ans. Group Zero covers entire capturing string, group one covers the first capturing group (3 digits) and second group covers second capturing group (7 digits one)."
   ]
  },
  {
   "cell_type": "code",
   "execution_count": 9,
   "metadata": {},
   "outputs": [
    {
     "name": "stdout",
     "output_type": "stream",
     "text": [
      "235\n",
      "503-2023\n"
     ]
    }
   ],
   "source": [
    "import re\n",
    "\n",
    "pattern = r\"(\\d\\d\\d)-(\\d\\d\\d-\\d\\d\\d\\d)\"\n",
    "\n",
    "text = \"Its wonderful to know all you today 235-503-2023\"\n",
    "\n",
    "regex = re.search(pattern,text)\n",
    "\n",
    "result111 = regex.group(1)\n",
    "result222 = regex.group(2)\n",
    "\n",
    "print(result111)\n",
    "print(result222)"
   ]
  },
  {
   "attachments": {},
   "cell_type": "markdown",
   "metadata": {},
   "source": [
    "6. In standard expression syntax, parentheses and intervals have distinct meanings. How can you tell a regex that you want it to fit real parentheses and periods?\n",
    "\n",
    "Ans. We use backslash to address periods and parenthesis in regex."
   ]
  },
  {
   "cell_type": "code",
   "execution_count": 10,
   "metadata": {},
   "outputs": [
    {
     "data": {
      "text/plain": [
       "<re.Match object; span=(41, 55), match='[hi bhau  . .]'>"
      ]
     },
     "execution_count": 10,
     "metadata": {},
     "output_type": "execute_result"
    }
   ],
   "source": [
    "import re\n",
    "\n",
    "pattern = r\"\\[hi bhau  . .]\"\n",
    "\n",
    "sequence = \"They said to him hi and kas kai chalalay [hi bhau  . .]\"\n",
    "\n",
    "regex = re.compile(pattern)\n",
    "\n",
    "result = regex.search(sequence)\n",
    "\n",
    "result"
   ]
  },
  {
   "attachments": {},
   "cell_type": "markdown",
   "metadata": {},
   "source": [
    "7. The findall() method returns a string list or a list of string tuples. What causes it to return one of the two options?\n",
    "\n",
    "Ans. findall method in regex returns values in list while findall with more than one group returns values in tuples inside list. Below example."
   ]
  },
  {
   "cell_type": "code",
   "execution_count": 11,
   "metadata": {},
   "outputs": [
    {
     "name": "stdout",
     "output_type": "stream",
     "text": [
      "[('32', '34')]\n",
      "['noon']\n"
     ]
    }
   ],
   "source": [
    "text = \"Today was great weather, afternoon with 32-34 degrees was little warm\"\n",
    "\n",
    "pattern = r\"(\\d\\d)-(\\d\\d)\"\n",
    "\n",
    "result = re.findall(pattern, text)\n",
    "\n",
    "print(result)\n",
    "\n",
    "pattern2 = r\"noon\"\n",
    "\n",
    "result2 = re.findall(pattern2,text)\n",
    "\n",
    "print(result2)"
   ]
  },
  {
   "attachments": {},
   "cell_type": "markdown",
   "metadata": {},
   "source": [
    "8. In standard expressions, what does the | character mean?\n",
    "\n",
    "Ans. It means 'or' in layman's language."
   ]
  },
  {
   "cell_type": "code",
   "execution_count": 14,
   "metadata": {},
   "outputs": [
    {
     "name": "stdout",
     "output_type": "stream",
     "text": [
      "<re.Match object; span=(8, 12), match='Rina'>\n",
      "Rina\n",
      "Meena\n"
     ]
    }
   ],
   "source": [
    "import re\n",
    "text = \"Is that Rina, and Priya, Meena, Madhuri standing at metro stop\"\n",
    "\n",
    "pattern = r\"Meena|Rina\"\n",
    "regex = re.compile(pattern)\n",
    "\n",
    "print(regex.search(text))\n",
    "\n",
    "# using for loop to find \n",
    "for te in text.split():\n",
    "    if regex.search(te):\n",
    "        te = list(te)[:-1]\n",
    "        te = \"\".join(te)\n",
    "        print(te)"
   ]
  },
  {
   "attachments": {},
   "cell_type": "markdown",
   "metadata": {},
   "source": [
    "9. In regular expressions, what does the character stand for?\n",
    "\n",
    "Ans. Except the special meaning characters in regex example ( ) [] {} . * ? $ etc,. regex treats characters such = 9 @ as = 9 @ respectively as it is in a string."
   ]
  },
  {
   "cell_type": "markdown",
   "metadata": {},
   "source": [
    "10.In regular expressions, what is the difference between the + and * characters?"
   ]
  },
  {
   "cell_type": "code",
   "execution_count": 39,
   "metadata": {},
   "outputs": [
    {
     "data": {
      "text/plain": [
       "['0', '00', '1', '2', '3', '445', '3240', '00438']"
      ]
     },
     "execution_count": 39,
     "metadata": {},
     "output_type": "execute_result"
    }
   ],
   "source": [
    "import re\n",
    "\n",
    "raw_string = ' 0 00  1 2 3 445 3240 00438'\n",
    "\n",
    "pattern = r\"[0-9]+\"\n",
    "\n",
    "result =    re.findall(pattern,raw_string)\n",
    "\n",
    "result"
   ]
  },
  {
   "cell_type": "code",
   "execution_count": 50,
   "metadata": {},
   "outputs": [
    {
     "name": "stdout",
     "output_type": "stream",
     "text": [
      "['', '0', '', '00', '', '', '1', '', '2', '', '3', '', '445', '', '3240', '', '00438', '']"
     ]
    }
   ],
   "source": [
    "import re\n",
    "\n",
    "raw_string = ' 0 00  1 2 3 445 3240 00438'\n",
    "\n",
    "pattern = r\"[0-9]*\"\n",
    "\n",
    "result =    re.findall(pattern,raw_string)\n",
    "\n",
    "print(result, end= \"\")"
   ]
  }
 ],
 "metadata": {
  "kernelspec": {
   "display_name": "Python 3",
   "language": "python",
   "name": "python3"
  },
  "language_info": {
   "codemirror_mode": {
    "name": "ipython",
    "version": 3
   },
   "file_extension": ".py",
   "mimetype": "text/x-python",
   "name": "python",
   "nbconvert_exporter": "python",
   "pygments_lexer": "ipython3",
   "version": "3.10.7"
  },
  "orig_nbformat": 4,
  "vscode": {
   "interpreter": {
    "hash": "2145c8c19aa62e7649ada51f9010922e5a86870bc6853880038de552a1be3453"
   }
  }
 },
 "nbformat": 4,
 "nbformat_minor": 2
}
