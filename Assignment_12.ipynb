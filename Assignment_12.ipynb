{
 "cells": [
  {
   "cell_type": "markdown",
   "metadata": {},
   "source": [
    "1. In what modes should the PdfFileReader() and PdfFileWriter() File objects will be opened?\n",
    "2. From a PdfFileReader object, how do you get a Page object for page 5?\n",
    "3. What PdfFileReader variable stores the number of pages in the PDF document?\n",
    "4. If a PdfFileReader object’s PDF is encrypted with the password swordfish, what must you do before you can obtain Page objects from it?\n",
    "5. What methods do you use to rotate a page?\n",
    "6. What is the difference between a Run object and a Paragraph object?\n",
    "7. How do you obtain a list of Paragraph objects for a Document object that’s stored in a variable named doc?\n",
    "8. What type of object has bold, underline, italic, strike, and outline variables?\n",
    "9. What is the difference between False, True, and None for the bold variable?\n",
    "10. How do you create a Document object for a new Word document?\n",
    "11. How do you add a paragraph with the text 'Hello, there!' to a Document object stored in a variable named doc?\n",
    "12. What integers represent the levels of headings available in Word documents?"
   ]
  },
  {
   "cell_type": "markdown",
   "metadata": {},
   "source": [
    "1. In what modes should the PdfFileReader() and PdfFileWriter() File objects will be opened?\n",
    "\n",
    "Ans:"
   ]
  },
  {
   "cell_type": "code",
   "execution_count": 1,
   "metadata": {},
   "outputs": [
    {
     "name": "stdout",
     "output_type": "stream",
     "text": [
      "Requirement already satisfied: PyPDF2 in d:\\fds\\env\\lib\\site-packages (3.0.1)\n",
      "Requirement already satisfied: typing_extensions>=3.10.0.0 in d:\\fds\\env\\lib\\site-packages (from PyPDF2) (4.6.3)\n",
      "Note: you may need to restart the kernel to use updated packages.\n"
     ]
    }
   ],
   "source": [
    "pip install PyPDF2"
   ]
  },
  {
   "cell_type": "code",
   "execution_count": 2,
   "metadata": {},
   "outputs": [],
   "source": [
    "from PyPDF2 import PdfReader\n",
    "\n",
    "filereader = PdfReader(open(\"Deep_learning.pdf\", \"rb\"))"
   ]
  },
  {
   "cell_type": "markdown",
   "metadata": {},
   "source": [
    "2. From a PdfFileReader object, how do you get a Page object for page 5?\n",
    "\n",
    "Ans:"
   ]
  },
  {
   "cell_type": "code",
   "execution_count": 3,
   "metadata": {},
   "outputs": [
    {
     "name": "stdout",
     "output_type": "stream",
     "text": [
      "CO NTE NT S\n",
      "9.10TheNeuroscientiﬁcBasisforConvolutionalNetworks. . . . . ..364\n",
      "9.11ConvolutionalNetworksandtheHistoryofDeepLearning. . . .371\n",
      "10 SequenceModeling:RecurrentandRecursiveNets373\n",
      "10.1UnfoldingComputational Graphs. . . . . . . . . . . . . . . . . .375\n",
      "10.2RecurrentNeuralNetworks. . .. . . . . . . . . . . . . . . . . .378\n",
      "10.3BidirectionalRNNs . . . . . . . . . . . . . . . . . . . . . . . . . .394\n",
      "10.4Encoder-DecoderSequence-to-SequenceArchitectures. . . . . ..396\n",
      "10.5DeepRecurrentNetworks. . . . . . . . . . . . . . . . . . . . . .398\n",
      "10.6RecursiveNeuralNetworks. . . . .. . . . . . . . . . . . . . . . . 400\n",
      "10.7TheChallengeofLong-TermDependencies. . . . . . . . . . . . .401\n",
      "10.8EchoStateNetworks. . . . . . . . . . . . . . . . . . . . . . . . .404\n",
      "10.9LeakyUnitsandOtherStrategiesforMultipleTimeScales. . ..406\n",
      "10.10 TheLongShort-TermMemoryandOtherGatedRNNs. .. . . .408\n",
      "10.11 Optimization forLong-TermDependencies. . . . . . . . . . . . .413\n",
      "10.12 Explicit Memory. . . . . . . . . . . . . . . . . . . . . . . . . . . 416\n",
      "11 PracticalMethodology 421\n",
      "11.1PerformanceMetrics. . . . . . . . . . . . . . . . . . . . . . . . .422\n",
      "11.2DefaultBaselineModels. . . . . . . . . . . . . . . . . . . . . . .425\n",
      "11.3DeterminingWhethertoGatherMoreData. . . . . . . . . . . . 426\n",
      "11.4SelectingHyperparameters. . . . . . . . . . . . . . . . . . . . . .427\n",
      "11.5DebuggingStrategies. . . . .. . . . . . . . . . . . . . . . . . . .436\n",
      "11.6Example:Multi-DigitNumberRecognition. . . . .. . . . . . . . 440\n",
      "12 Applications 443\n",
      "12.1Large-ScaleDeepLearning.. . . . . . . . . . . . . . . . . . . . .443\n",
      "12.2ComputerVision. . . . . . . . . . . . . . . . . . . . . . . . . . .452\n",
      "12.3SpeechRecognition . . . . . .. . . . . . . . . . . . . . . . . . . .458\n",
      "12.4NaturalLanguageProcessing. . .. . . . . . . . . . . . . . . . .461\n",
      "12.5OtherApplications. . . . . . . . . . . . . . . . . . . . . . . . . .478\n",
      "IIIDeepLearningResearch 486\n",
      "13 LinearFactorModels 489\n",
      "13.1ProbabilisticPCAandFactorAnalysis. . . . . . .. . . . . . . . 490\n",
      "13.2IndependentComponentAnalysis(ICA). . . . . . . . . . . . . .491\n",
      "13.3SlowFeatureAnalysis. . . . . .. . . . . . . . . . . . . . . . . .493\n",
      "13.4SparseCoding. . . . . .. . . . . . . . . . . . . . . . . . . . . . .496\n",
      "i v\n"
     ]
    }
   ],
   "source": [
    "import PyPDF2\n",
    "\n",
    "with open(\"Deep_learning.pdf\", \"rb\") as dlpdffile:\n",
    "    pdf_reader = PdfReader(dlpdffile)\n",
    "\n",
    "    page_number = 4\n",
    "\n",
    "    page_object = pdf_reader.pages[page_number]\n",
    "\n",
    "    page_text = page_object.extract_text()\n",
    "\n",
    "print(page_text)\n"
   ]
  },
  {
   "cell_type": "markdown",
   "metadata": {},
   "source": [
    "3. What PdfFileReader variable stores the number of pages in the PDF document?\n",
    "\n",
    "Ans: using \".numPages\""
   ]
  },
  {
   "cell_type": "code",
   "execution_count": 4,
   "metadata": {},
   "outputs": [
    {
     "name": "stdout",
     "output_type": "stream",
     "text": [
      "800\n"
     ]
    }
   ],
   "source": [
    "import PyPDF2 \n",
    "\n",
    "with open(\"Deep_learning.pdf\", \"rb\") as mypdf:\n",
    "    pdf_reader = PdfReader(mypdf)\n",
    "\n",
    "    pagenumbers = len(pdf_reader.pages)\n",
    "    print(pagenumbers)"
   ]
  },
  {
   "cell_type": "markdown",
   "metadata": {},
   "source": [
    "4. If a PdfFileReader object’s PDF is encrypted with the password swordfish, what must you do before you can obtain Page objects from it?\n",
    "\n",
    "Ans:"
   ]
  },
  {
   "cell_type": "code",
   "execution_count": 5,
   "metadata": {},
   "outputs": [
    {
     "name": "stdout",
     "output_type": "stream",
     "text": [
      "CHAPTER1.INTRODUCTION\n",
      "AIMachine learningRepresentation learningDeep learning\n",
      "Example:\n",
      "Knowledge\n",
      "basesExample:\n",
      "Logistic\n",
      "regressionExample:\n",
      "Shallow\n",
      "autoencoders Example:\n",
      "MLPs\n",
      "Figure1.4:AVenndiagramshowinghowdeeplearningisakindofrepresentationlearning,\n",
      "whichisinturnakindofmachinelearning,whichisusedformanybutnotallapproaches\n",
      "toAI.EachsectionoftheVenndiagramincludesanexampleofanAItechnology.\n",
      "9\n"
     ]
    }
   ],
   "source": [
    "import PyPDF2\n",
    "\n",
    "pdfpath = \"D:\\FDS\\Assignments\\CourseOnes\\Python\\Deep_learning2.pdf\"\n",
    "password = \"123\"\n",
    "\n",
    "with open(pdfpath, \"rb\") as pdffile:\n",
    "    pdf_reader = PyPDF2.PdfReader(pdffile)\n",
    "\n",
    "    if pdf_reader.is_encrypted:\n",
    "        if pdf_reader.decrypt(password):\n",
    "            if pdf_reader.pages[23]:\n",
    "                page_number = 23\n",
    "                page_object = pdf_reader.pages[page_number]\n",
    "                extrat = page_object.extract_text()\n",
    "                print(extrat)\n",
    "\n",
    "            else:\n",
    "                print(\"Failed to access\")\n",
    "\n",
    "        else:\n",
    "            print(\"Incorrect password\")\n",
    "    \n",
    "    else:\n",
    "        print(\"The PDF is not encrypted\")"
   ]
  },
  {
   "cell_type": "markdown",
   "metadata": {},
   "source": [
    "5. What methods do you use to rotate a page?"
   ]
  },
  {
   "cell_type": "code",
   "execution_count": 6,
   "metadata": {},
   "outputs": [],
   "source": [
    "import PyPDF2\n"
   ]
  },
  {
   "cell_type": "markdown",
   "metadata": {},
   "source": [
    "6. What is the difference between a Run object and a Paragraph object?\n",
    "\n",
    "Ans. .add_run join two sentences with given word while .add_paragraph method add texts in the document as sext paragraph to the previous. Example below given:"
   ]
  },
  {
   "cell_type": "code",
   "execution_count": 7,
   "metadata": {},
   "outputs": [
    {
     "name": "stdout",
     "output_type": "stream",
     "text": [
      "Requirement already satisfied: docx in d:\\fds\\env\\lib\\site-packages (0.2.4)\n",
      "Requirement already satisfied: lxml in d:\\fds\\env\\lib\\site-packages (from docx) (5.0.0)\n",
      "Requirement already satisfied: Pillow>=2.0 in d:\\fds\\env\\lib\\site-packages (from docx) (9.5.0)\n",
      "Note: you may need to restart the kernel to use updated packages.\n"
     ]
    }
   ],
   "source": [
    "pip install docx"
   ]
  },
  {
   "cell_type": "code",
   "execution_count": 8,
   "metadata": {},
   "outputs": [
    {
     "name": "stdout",
     "output_type": "stream",
     "text": [
      "Requirement already satisfied: python-docx in d:\\fds\\env\\lib\\site-packages (1.1.0)\n",
      "Requirement already satisfied: lxml>=3.1.0 in d:\\fds\\env\\lib\\site-packages (from python-docx) (5.0.0)\n",
      "Requirement already satisfied: typing-extensions in d:\\fds\\env\\lib\\site-packages (from python-docx) (4.6.3)\n",
      "Note: you may need to restart the kernel to use updated packages.\n"
     ]
    }
   ],
   "source": [
    "pip install --upgrade python-docx"
   ]
  },
  {
   "cell_type": "code",
   "execution_count": 9,
   "metadata": {},
   "outputs": [],
   "source": [
    "from docx import Document\n",
    "\n",
    "doc = Document()\n",
    "\n",
    "# Aparagraph with multiple runs\n",
    "paragraph = doc.add_paragraph(\"Buddy it's me, and I want to tell you that\")\n",
    "run1 = paragraph.add_run(\" love \")\n",
    "run1.bold = True\n",
    "paragraph.add_run(\"is the key to happiness, and its not written by machine.\")\n",
    "\n",
    "#another paragraph\n",
    "paragraph2 = doc.add_paragraph(\"\\tLets begin with second para, This is 2024 first day, and Japan already hit by Quake of 7 magnitude.\")\n",
    "paragraph3 = doc.add_paragraph(\"\\t Is it really necessory.\")\n",
    "# Saved document\n",
    "doc.save(\"scrap.docx\")\n"
   ]
  },
  {
   "cell_type": "markdown",
   "metadata": {},
   "source": [
    "7. How do you obtain a list of Paragraph objects for a Document object that’s stored in a variable named doc?\n",
    "\n",
    "Ans:"
   ]
  },
  {
   "cell_type": "code",
   "execution_count": 10,
   "metadata": {},
   "outputs": [
    {
     "name": "stdout",
     "output_type": "stream",
     "text": [
      "\n",
      "*******************\n",
      "Buddy it's me, and I want to tell you that love is the key to happiness, and its not written by machine.\n",
      "\n",
      "*******************\n",
      "\n",
      "*******************\n",
      "\tLets begin with second para, This is 2024 first day, and Japan already hit by Quake of 7 magnitude.\n",
      "\n",
      "*******************\n",
      "\n",
      "*******************\n",
      "\t Is it really necessory.\n",
      "\n",
      "*******************\n"
     ]
    }
   ],
   "source": [
    "from docx import Document\n",
    "\n",
    "doc = Document(\"scrap.docx\")\n",
    "\n",
    "para_list = doc.paragraphs\n",
    "\n",
    "for x in para_list:\n",
    "    print(\"\\n\" + \"*******************\")\n",
    "    print(x.text)\n",
    "    print(\"\\n\" + \"*******************\")"
   ]
  },
  {
   "cell_type": "markdown",
   "metadata": {},
   "source": [
    "8. What type of object has bold, underline, italic, strike, and outline variables?\n",
    "\n",
    "Ans:"
   ]
  },
  {
   "cell_type": "code",
   "execution_count": 15,
   "metadata": {},
   "outputs": [],
   "source": [
    "from docx import document\n",
    "\n",
    "doc = Document()\n",
    "\n",
    "paragraph = doc.add_paragraph()\n",
    "\n",
    "run = paragraph.add_run(\"You will see how many things I do with this sentence, dont forget to open docx file using windows. Hahahaha so dumb but fun!!\")\n",
    "\n",
    "run.bold = True\n",
    "run.underline = True\n",
    "run.italic = True\n",
    "run.strike = True\n",
    "run.outline = True\n",
    "\n",
    "doc.save(\"scrap.docx\")"
   ]
  },
  {
   "cell_type": "markdown",
   "metadata": {},
   "source": [
    "9. What is the difference between False, True, and None for the bold variable?\n",
    "\n",
    "Ans: True means given style is on, Flase means off and None tells, it inherits by default from paragraph."
   ]
  },
  {
   "cell_type": "markdown",
   "metadata": {},
   "source": [
    "10. How do you create a Document object for a new Word document?"
   ]
  },
  {
   "cell_type": "code",
   "execution_count": 17,
   "metadata": {},
   "outputs": [],
   "source": [
    "from docx import Document\n",
    "\n",
    "doc = Document()\n",
    "\n",
    "text = doc.add_paragraph(\"You can add anything you want in the first paragraph of the document.\")\n",
    "\n",
    "doc.save(\"scrap.docx\")"
   ]
  },
  {
   "cell_type": "markdown",
   "metadata": {},
   "source": [
    "11. How do you add a paragraph with the text 'Hello, there!' to a Document object stored in a variable named doc?"
   ]
  },
  {
   "cell_type": "code",
   "execution_count": 18,
   "metadata": {},
   "outputs": [],
   "source": [
    "from docx import Document\n",
    "\n",
    "doc = Document()\n",
    "\n",
    "text = doc.add_paragraph(\"Hello, there!\")\n",
    "\n",
    "doc.save(\"scrap.docx\")"
   ]
  },
  {
   "cell_type": "markdown",
   "metadata": {},
   "source": [
    "12. What integers represent the levels of headings available in Word documents?"
   ]
  },
  {
   "cell_type": "code",
   "execution_count": 26,
   "metadata": {},
   "outputs": [],
   "source": [
    "from docx import Document\n",
    "\n",
    "doc = Document()\n",
    "\n",
    "doc.add_heading(\"What do you think is behind a horizon\", level=1)\n",
    "doc.add_heading(\"What do you think is behind a horizon\", level=2)\n",
    "doc.add_heading(\"What do you think is behind a horizon\", level=3)\n",
    "doc.add_heading(\"What do you think is behind a horizon\", level=4)\n",
    "\n",
    "doc.save(\"scrap.docx\")"
   ]
  },
  {
   "cell_type": "markdown",
   "metadata": {},
   "source": []
  }
 ],
 "metadata": {
  "kernelspec": {
   "display_name": "Python 3",
   "language": "python",
   "name": "python3"
  },
  "language_info": {
   "codemirror_mode": {
    "name": "ipython",
    "version": 3
   },
   "file_extension": ".py",
   "mimetype": "text/x-python",
   "name": "python",
   "nbconvert_exporter": "python",
   "pygments_lexer": "ipython3",
   "version": "3.8.16"
  },
  "orig_nbformat": 4
 },
 "nbformat": 4,
 "nbformat_minor": 2
}
