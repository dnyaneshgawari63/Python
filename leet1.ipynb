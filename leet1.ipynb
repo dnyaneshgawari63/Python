{
 "cells": [
  {
   "cell_type": "code",
   "execution_count": 46,
   "metadata": {},
   "outputs": [
    {
     "name": "stdout",
     "output_type": "stream",
     "text": [
      "[0, 1]\n"
     ]
    }
   ],
   "source": [
    "# Two sum problem\n",
    "\n",
    "\"\"\" \n",
    "Certainly! Let's break down the problem step by step in simple terms:\n",
    "\n",
    "Problem: You have a list of numbers, and you want to find two numbers in the list that, when added together, equal a specific target number.\n",
    "\n",
    "Solution:\n",
    "\n",
    "1 Create an empty \"dictionary\" (a special type of list that stores pairs of values).\n",
    "2 Go through each number in your list one by one.\n",
    "3 For each number, figure out what other number you would need to add to it to reach the target number. This is called the \"complement.\"\n",
    "4 Check if the complement is already in your dictionary. If it is, that means you've found two numbers that add up to the target. Return the indices (positions) of those two numbers.\n",
    "5 If the complement is not in the dictionary, store the current number in the dictionary along with its index.\n",
    "6 Keep repeating this process until you either find a pair that adds up to the target or you've gone through all the numbers without finding a pair.\n",
    "7 If you find a pair, return the indices of those two numbers. If you don't find a pair, return an empty list to indicate that there's no valid solution.\n",
    "\"\"\"\n",
    "def twosum(nums, target):\n",
    "        mydict = {} # empty dictionary to store pairs of numbers for indices\n",
    "\n",
    "        for x , y in enumerate(nums):\n",
    "                # print(f\"For index {x} number is {y}\")\n",
    "                complement = target - y\n",
    "                if complement in mydict:\n",
    "                        return [mydict[complement],x]\n",
    "        \n",
    "                mydict[y] = x\n",
    "\n",
    "        return []\n",
    "\n",
    "# G scope\n",
    "nums = [2,7,11,15]\n",
    "target = 9 # Explanation: Because nums[0] + nums[1] == 9, we return [0, 1]\n",
    "result = twosum(nums, target)\n",
    "print(result)\n",
    "\n",
    "\n"
   ]
  },
  {
   "cell_type": "code",
   "execution_count": 4,
   "metadata": {},
   "outputs": [
    {
     "data": {
      "text/plain": [
       "[2, 4]"
      ]
     },
     "execution_count": 4,
     "metadata": {},
     "output_type": "execute_result"
    }
   ],
   "source": [
    "nums = [2,4,6,7,8]\n",
    "target = 14\n",
    "\n",
    "def two_sum(nums, target):\n",
    "    dict1 = {}\n",
    "    for x, y in enumerate(nums):\n",
    "        compliment = target - y\n",
    "        if compliment in dict1:\n",
    "            return [dict1[compliment], x]   \n",
    "        dict1[y] = x\n",
    "        \n",
    "    return []\n",
    "two_sum(nums,target)"
   ]
  },
  {
   "cell_type": "code",
   "execution_count": 4,
   "metadata": {},
   "outputs": [
    {
     "data": {
      "text/plain": [
       "[3, 8]"
      ]
     },
     "execution_count": 4,
     "metadata": {},
     "output_type": "execute_result"
    }
   ],
   "source": [
    "numbers = [2,5,6,8,23,45,23,56,12]\n",
    "target  = 20\n",
    "\n",
    "def twosum(numbers,target):\n",
    "    mydict = {}\n",
    "\n",
    "    for x,y in enumerate(numbers):\n",
    "        complement = target - y\n",
    "        if complement in mydict:\n",
    "            return [mydict[complement], x]\n",
    "\n",
    "        mydict[y] = x\n",
    "\n",
    "    return []\n",
    "\n",
    "twosum(numbers,target)"
   ]
  },
  {
   "cell_type": "code",
   "execution_count": 2,
   "metadata": {},
   "outputs": [
    {
     "name": "stdout",
     "output_type": "stream",
     "text": [
      "[7, 8]\n"
     ]
    }
   ],
   "source": [
    "\n",
    "\n",
    "numbers  = [0,1,2,3,4,5,6,7,8,9]\n",
    "target = 15\n",
    "class Solution:\n",
    "    def two_sum(self,numbers,target):\n",
    "        mydict = {}\n",
    "\n",
    "        for x,y in enumerate(numbers):\n",
    "            complement = target - y\n",
    "            if complement in mydict:\n",
    "                return [mydict[complement], x]\n",
    "            mydict[y] = x\n",
    "        return []\n",
    "\n",
    "solution = Solution()\n",
    "print(solution.two_sum(numbers,target))"
   ]
  },
  {
   "cell_type": "code",
   "execution_count": 91,
   "metadata": {},
   "outputs": [
    {
     "name": "stdout",
     "output_type": "stream",
     "text": [
      "[5, 14]\n"
     ]
    }
   ],
   "source": [
    "numbers = [1,2,3,4,5,6,8,5,232,7,56,89,9,234,64,456,77]\n",
    "target = 70\n",
    "\n",
    "\n",
    "class Solution:\n",
    "    def twosum(self,numbers, target):\n",
    "        mydict = {}\n",
    "\n",
    "        for x, y in enumerate(numbers):\n",
    "            complement = target - y\n",
    "            if complement in mydict:\n",
    "                return [mydict[complement],x]\n",
    "            mydict[y] = x\n",
    "        return (f\"Provided target {target} has no pair of numbers.\")\n",
    "\n",
    "solution = Solution()\n",
    "result = solution.twosum(numbers,target)\n",
    "print(result)"
   ]
  },
  {
   "cell_type": "code",
   "execution_count": 92,
   "metadata": {},
   "outputs": [
    {
     "data": {
      "text/plain": [
       "'Provided target 198 has no pair of numbers.'"
      ]
     },
     "execution_count": 92,
     "metadata": {},
     "output_type": "execute_result"
    }
   ],
   "source": [
    "# we can provide numbers and target in below format too.\n",
    "solution.twosum([12,32,3,12,1,2,3,4,5,6,7,8,9,0,10,1,11,12,13,14,15,16],198)"
   ]
  }
 ],
 "metadata": {
  "kernelspec": {
   "display_name": "Python 3",
   "language": "python",
   "name": "python3"
  },
  "language_info": {
   "codemirror_mode": {
    "name": "ipython",
    "version": 3
   },
   "file_extension": ".py",
   "mimetype": "text/x-python",
   "name": "python",
   "nbconvert_exporter": "python",
   "pygments_lexer": "ipython3",
   "version": "3.8.16"
  },
  "orig_nbformat": 4
 },
 "nbformat": 4,
 "nbformat_minor": 2
}
