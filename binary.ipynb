{
 "cells": [
  {
   "cell_type": "code",
   "execution_count": null,
   "metadata": {},
   "outputs": [],
   "source": [
    "# Every positive number divided by 2 will have remainder either 0 or 2.\n",
    "# in binary we collect all remainders, organize first step divided by 2 remainder to the right, and so on.\n"
   ]
  },
  {
   "cell_type": "code",
   "execution_count": 25,
   "metadata": {},
   "outputs": [],
   "source": [
    "# Let consider number 25, so this number 25 is 25 when, \"25 base to the 10(decimal) = 25\"\n",
    "# now lets calculate 25 to the base 2, which is nothing but Binary \"25 base to the 2(binary)  = 11001 \"\n",
    "\n",
    "# To calculate binary we divide decimal number by 2 till we get quotient 0, \n",
    "# then we collect all remainders from first step till the last. \n",
    "# Fisrt step reamiander keep at right and rest towerds left, thats your bunary number. \n"
   ]
  },
  {
   "cell_type": "code",
   "execution_count": 24,
   "metadata": {},
   "outputs": [
    {
     "name": "stdout",
     "output_type": "stream",
     "text": [
      "12\n",
      "1\n"
     ]
    }
   ],
   "source": [
    "print(25 // 2) # quotient\n",
    "print(25 % 2) # reaminder "
   ]
  },
  {
   "cell_type": "code",
   "execution_count": 19,
   "metadata": {},
   "outputs": [
    {
     "name": "stdout",
     "output_type": "stream",
     "text": [
      "6\n",
      "0\n"
     ]
    }
   ],
   "source": [
    "print(12 // 2) # quotient\n",
    "print(12 % 2) # remainder"
   ]
  },
  {
   "cell_type": "code",
   "execution_count": 20,
   "metadata": {},
   "outputs": [
    {
     "name": "stdout",
     "output_type": "stream",
     "text": [
      "3\n",
      "0\n"
     ]
    }
   ],
   "source": [
    "print(6 // 2) # quotient\n",
    "print(6 % 2) # remainder"
   ]
  },
  {
   "cell_type": "code",
   "execution_count": 21,
   "metadata": {},
   "outputs": [
    {
     "name": "stdout",
     "output_type": "stream",
     "text": [
      "1\n",
      "1\n"
     ]
    }
   ],
   "source": [
    "print(3 // 2) # quotient\n",
    "print(3 % 2) # remainder"
   ]
  },
  {
   "cell_type": "code",
   "execution_count": 22,
   "metadata": {},
   "outputs": [
    {
     "name": "stdout",
     "output_type": "stream",
     "text": [
      "0\n",
      "1\n"
     ]
    }
   ],
   "source": [
    "print(1 // 2) # quotient\n",
    "print(1 % 2) # remainder"
   ]
  },
  {
   "cell_type": "code",
   "execution_count": 26,
   "metadata": {},
   "outputs": [],
   "source": [
    "# from above calculated steps all remainders from last stpe to first are binary numbers 11001."
   ]
  },
  {
   "cell_type": "code",
   "execution_count": null,
   "metadata": {},
   "outputs": [],
   "source": [
    "# Now to calculate from binary to decimal, \"11001 base 2\" to ? base 10."
   ]
  },
  {
   "cell_type": "code",
   "execution_count": 36,
   "metadata": {},
   "outputs": [
    {
     "name": "stdout",
     "output_type": "stream",
     "text": [
      "1\n",
      "0\n",
      "0\n",
      "8\n",
      "16\n"
     ]
    }
   ],
   "source": [
    "# binary numbers are 11001\n",
    "# Now to calculate from binary to decimal, \"11001 base 2\" to 25 base 10.\n",
    "# here we multiply binary numbers with 2 to the power of binary positions. \n",
    "# And, total sum of them will be our decimal number, which is 25.\n",
    "\n",
    "print(1 * (2**0))\n",
    "print(0 * (2**1))\n",
    "print(0 * (2**2))\n",
    "print(1 * (2**3))\n",
    "print(1 * (2**4))\n",
    "\n",
    "\"\"\"here first from left number represent from \"11001\" and calculation \n",
    "in second bracket represented for 2 to the power of \"11001\" positions \n",
    "such as 0,1,2,3,4 from left.\"\"\""
   ]
  },
  {
   "cell_type": "code",
   "execution_count": 35,
   "metadata": {},
   "outputs": [
    {
     "data": {
      "text/plain": [
       "25"
      ]
     },
     "execution_count": 35,
     "metadata": {},
     "output_type": "execute_result"
    }
   ],
   "source": [
    "1+8+16"
   ]
  }
 ],
 "metadata": {
  "kernelspec": {
   "display_name": "Python 3",
   "language": "python",
   "name": "python3"
  },
  "language_info": {
   "codemirror_mode": {
    "name": "ipython",
    "version": 3
   },
   "file_extension": ".py",
   "mimetype": "text/x-python",
   "name": "python",
   "nbconvert_exporter": "python",
   "pygments_lexer": "ipython3",
   "version": "3.10.7"
  }
 },
 "nbformat": 4,
 "nbformat_minor": 2
}
