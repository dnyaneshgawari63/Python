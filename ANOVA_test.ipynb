{
 "cells": [
  {
   "attachments": {},
   "cell_type": "markdown",
   "metadata": {},
   "source": [
    "ANOVA is a anlysis of a variaance test. It test if there is a significant difference is present or not."
   ]
  },
  {
   "attachments": {},
   "cell_type": "markdown",
   "metadata": {},
   "source": [
    "Hypothesis:\n",
    "\n",
    "H0: All three population means have no diference or almost same.\n",
    "H1: At least, one of the population mean has significant difference amongst each other."
   ]
  },
  {
   "attachments": {},
   "cell_type": "markdown",
   "metadata": {},
   "source": [
    "Question / Hypothesis to test: \n",
    "In India, there are people with characteristics, includes, City; Population, Education, Money, Crime, Slum. Below is the chart that evaluated each category by giving score 0 to 100."
   ]
  },
  {
   "cell_type": "code",
   "execution_count": 1,
   "metadata": {},
   "outputs": [],
   "source": [
    "# City; Population, Education, Money, Crime, Slum. score from 0 to 100\n",
    "bangalore = [20,75,85,8,0]\n",
    "pune = [55,72,65,3,5]\n",
    "chennai = [75,74,59,6,0]\n",
    "mumbai = [1,60,91,5,45]\n",
    "delhi = [11,62,88,7,15]"
   ]
  },
  {
   "cell_type": "code",
   "execution_count": 18,
   "metadata": {},
   "outputs": [
    {
     "data": {
      "text/plain": [
       "F_onewayResult(statistic=0.02200643445813929, pvalue=0.9989712990482728)"
      ]
     },
     "execution_count": 18,
     "metadata": {},
     "output_type": "execute_result"
    }
   ],
   "source": [
    "# To conduct one way ANOVA\n",
    "\n",
    "from scipy.stats import f_oneway\n",
    "\n",
    "result = f_oneway(bangalore, pune, chennai, mumbai, delhi)\n",
    "\n",
    "result"
   ]
  },
  {
   "attachments": {},
   "cell_type": "markdown",
   "metadata": {},
   "source": [
    "Conclusion:"
   ]
  },
  {
   "cell_type": "code",
   "execution_count": 27,
   "metadata": {},
   "outputs": [
    {
     "name": "stdout",
     "output_type": "stream",
     "text": [
      "All the five cities those we chose in India have no definite difference among people. \n",
      "P value 0.9989712990482728.\n"
     ]
    }
   ],
   "source": [
    "if result.pvalue <= 0.05:\n",
    "    print(f\"All the five cities those we chose in India have definite difference among people. \\nP value {result.pvalue}.\")\n",
    "else:\n",
    "    print(f\"All the five cities those we chose in India have no definite difference among people. \\nP value {result.pvalue}.\")"
   ]
  }
 ],
 "metadata": {
  "kernelspec": {
   "display_name": "Python 3",
   "language": "python",
   "name": "python3"
  },
  "language_info": {
   "codemirror_mode": {
    "name": "ipython",
    "version": 3
   },
   "file_extension": ".py",
   "mimetype": "text/x-python",
   "name": "python",
   "nbconvert_exporter": "python",
   "pygments_lexer": "ipython3",
   "version": "3.10.7"
  },
  "orig_nbformat": 4
 },
 "nbformat": 4,
 "nbformat_minor": 2
}
