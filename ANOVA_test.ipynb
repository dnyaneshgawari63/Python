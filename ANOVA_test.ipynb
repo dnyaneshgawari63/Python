{
 "cells": [
  {
   "attachments": {},
   "cell_type": "markdown",
   "metadata": {},
   "source": [
    "ANOVA is a analysis of a variance test. It test if there is a significant difference between population means is present or not."
   ]
  },
  {
   "attachments": {},
   "cell_type": "markdown",
   "metadata": {},
   "source": [
    "# One-way ANOVA"
   ]
  },
  {
   "attachments": {},
   "cell_type": "markdown",
   "metadata": {},
   "source": [
    "Hypothesis:\n",
    "\n",
    "H0: All three or more population means have no diference or almost same.\n",
    "H1: At least, one of the population mean has significant difference amongst each other."
   ]
  },
  {
   "attachments": {},
   "cell_type": "markdown",
   "metadata": {},
   "source": [
    "Question / Hypothesis to test: \n",
    "In India, there are people with characteristics, includes, City; Population, Education, Money, Crime, Slum. Below is the chart that evaluated each category by giving score 0 to 100."
   ]
  },
  {
   "cell_type": "code",
   "execution_count": 28,
   "metadata": {},
   "outputs": [],
   "source": [
    "# City; Population, Education, Money, Crime, Slum. score from 0 to 100\n",
    "bangalore = [20,75,85,8,0]\n",
    "pune = [55,72,65,3,5]\n",
    "chennai = [75,74,59,6,0]\n",
    "mumbai = [1,60,91,5,45]\n",
    "delhi = [11,62,88,7,15]"
   ]
  },
  {
   "cell_type": "code",
   "execution_count": 29,
   "metadata": {},
   "outputs": [
    {
     "data": {
      "text/plain": [
       "F_onewayResult(statistic=0.02200643445813929, pvalue=0.9989712990482728)"
      ]
     },
     "execution_count": 29,
     "metadata": {},
     "output_type": "execute_result"
    }
   ],
   "source": [
    "# To conduct one way ANOVA\n",
    "\n",
    "from scipy.stats import f_oneway\n",
    "\n",
    "result = f_oneway(bangalore, pune, chennai, mumbai, delhi)\n",
    "\n",
    "result"
   ]
  },
  {
   "attachments": {},
   "cell_type": "markdown",
   "metadata": {},
   "source": [
    "Conclusion:"
   ]
  },
  {
   "cell_type": "code",
   "execution_count": 30,
   "metadata": {},
   "outputs": [
    {
     "name": "stdout",
     "output_type": "stream",
     "text": [
      "All the five cities those we chose in India have no definite difference among people. \n",
      "P value 0.9989712990482728.\n"
     ]
    }
   ],
   "source": [
    "if result.pvalue <= 0.05:\n",
    "    print(f\"All the five cities those we chose in India have definite difference among people. \\nP value {result.pvalue}.\")\n",
    "else:\n",
    "    print(f\"All the five cities those we chose in India have no definite difference among people. \\nP value {result.pvalue}.\")"
   ]
  },
  {
   "attachments": {},
   "cell_type": "markdown",
   "metadata": {},
   "source": [
    "# Two-way ANOVA"
   ]
  },
  {
   "attachments": {},
   "cell_type": "markdown",
   "metadata": {},
   "source": [
    "Hypothesis:\n",
    "\n",
    "H0: "
   ]
  },
  {
   "cell_type": "code",
   "execution_count": 9,
   "metadata": {},
   "outputs": [
    {
     "name": "stderr",
     "output_type": "stream",
     "text": [
      "c:\\Users\\Dnyanesh\\AppData\\Local\\Programs\\Python\\Python310\\lib\\site-packages\\statsmodels\\base\\model.py:1871: ValueWarning: covariance of constraints does not have full rank. The number of constraints is 2, but rank is 1\n",
      "  warnings.warn('covariance of constraints does not have full '\n"
     ]
    },
    {
     "data": {
      "text/html": [
       "<div>\n",
       "<style scoped>\n",
       "    .dataframe tbody tr th:only-of-type {\n",
       "        vertical-align: middle;\n",
       "    }\n",
       "\n",
       "    .dataframe tbody tr th {\n",
       "        vertical-align: top;\n",
       "    }\n",
       "\n",
       "    .dataframe thead th {\n",
       "        text-align: right;\n",
       "    }\n",
       "</style>\n",
       "<table border=\"1\" class=\"dataframe\">\n",
       "  <thead>\n",
       "    <tr style=\"text-align: right;\">\n",
       "      <th></th>\n",
       "      <th>sum_sq</th>\n",
       "      <th>df</th>\n",
       "      <th>F</th>\n",
       "      <th>PR(&gt;F)</th>\n",
       "    </tr>\n",
       "  </thead>\n",
       "  <tbody>\n",
       "    <tr>\n",
       "      <th>C(factor1)</th>\n",
       "      <td>1.395682e-13</td>\n",
       "      <td>1.0</td>\n",
       "      <td>6.978409e-14</td>\n",
       "      <td>1.000000</td>\n",
       "    </tr>\n",
       "    <tr>\n",
       "      <th>C(factor2)</th>\n",
       "      <td>6.666667e+00</td>\n",
       "      <td>2.0</td>\n",
       "      <td>1.666667e+00</td>\n",
       "      <td>0.419569</td>\n",
       "    </tr>\n",
       "    <tr>\n",
       "      <th>C(factor1):C(factor2)</th>\n",
       "      <td>3.466667e+01</td>\n",
       "      <td>2.0</td>\n",
       "      <td>8.666667e+00</td>\n",
       "      <td>0.233550</td>\n",
       "    </tr>\n",
       "    <tr>\n",
       "      <th>Residual</th>\n",
       "      <td>2.000000e+00</td>\n",
       "      <td>1.0</td>\n",
       "      <td>NaN</td>\n",
       "      <td>NaN</td>\n",
       "    </tr>\n",
       "  </tbody>\n",
       "</table>\n",
       "</div>"
      ],
      "text/plain": [
       "                             sum_sq   df             F    PR(>F)\n",
       "C(factor1)             1.395682e-13  1.0  6.978409e-14  1.000000\n",
       "C(factor2)             6.666667e+00  2.0  1.666667e+00  0.419569\n",
       "C(factor1):C(factor2)  3.466667e+01  2.0  8.666667e+00  0.233550\n",
       "Residual               2.000000e+00  1.0           NaN       NaN"
      ]
     },
     "execution_count": 9,
     "metadata": {},
     "output_type": "execute_result"
    }
   ],
   "source": [
    "import pandas as pd\n",
    "import statsmodels.api as sm\n",
    "from statsmodels.formula.api import ols\n",
    "\n",
    "# Create example data\n",
    "group1 = [10, 12, 14, 16, 18]\n",
    "group2 = [15, 16, 18, 20, 22]\n",
    "group3 = [20, 22, 24, 26, 28]\n",
    "factor1 = [\"A\", \"A\", \"A\", \"B\", \"B\"]\n",
    "factor2 = [\"X\", \"X\", \"Y\", \"Y\", \"Z\"]\n",
    "\n",
    "# Create a pandas dataframe\n",
    "df = pd.DataFrame({'group1': group1, 'group2': group2, 'group3': group3,\n",
    "                   'factor1': factor1, 'factor2': factor2})\n",
    "\n",
    "# Fit a two-way ANOVA model using the OLS function\n",
    "model = ols('group1 ~ C(factor1) + C(factor2) + C(factor1):C(factor2)', data=df).fit()\n",
    "\n",
    "# Print the ANOVA table\n",
    "sm.stats.anova_lm(model, typ=2)"
   ]
  }
 ],
 "metadata": {
  "kernelspec": {
   "display_name": "Python 3",
   "language": "python",
   "name": "python3"
  },
  "language_info": {
   "codemirror_mode": {
    "name": "ipython",
    "version": 3
   },
   "file_extension": ".py",
   "mimetype": "text/x-python",
   "name": "python",
   "nbconvert_exporter": "python",
   "pygments_lexer": "ipython3",
   "version": "3.10.7"
  },
  "orig_nbformat": 4
 },
 "nbformat": 4,
 "nbformat_minor": 2
}
