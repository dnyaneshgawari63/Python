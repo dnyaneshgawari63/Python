{
 "cells": [
  {
   "cell_type": "code",
   "execution_count": 90,
   "metadata": {},
   "outputs": [],
   "source": [
    "#1. Assign the value 7 to the variable guess_me. Then, write the conditional tests (if, else, and elif) to print the string 'too low' if guess_me is less than 7, 'too high' if greater than 7, and 'just right' if equal to 7.\n",
    "#2. Assign the value 7 to the variable guess_me and the value 1 to the variable start. Write a while loop that compares start with guess_me. Print too low if start is less than guess me. If start equals guess_me, print 'found it!' and exit the loop. If start is greater than guess_me, print 'oops' and exit the loop. Increment start at the end of the loop.\n",
    "#3. Print the following values of the list [3, 2, 1, 0] using a for loop.\n",
    "#4. Use a list comprehension to make a list of the even numbers in range(10)\n",
    "#5. Use a dictionary comprehension to create the dictionary squares. Use range(10) to return the keys, and use the square of each key as its value.\n",
    "#6. Construct the set odd from the odd numbers in the range using a set comprehension (10).\n",
    "#7. Use a generator comprehension to return the string 'Got ' and a number for the numbers in range(10). Iterate through this by using a for loop.\n",
    "#8. Define a function called good that returns the list ['Harry', 'Ron', 'Hermione'].\n",
    "#9. Define a generator function called get_odds that returns the odd numbers from range(10). Use a for loop to find and print the third value returned.\n",
    "#10. Define an exception called OopsException. Raise this exception to see what happens. Then write the code to catch this exception and print 'Caught an oops'.\n",
    "#11. Use zip() to make a dictionary called movies that pairs these lists: titles = ['Creature of Habit', 'Crewel Fate'] and plots = ['A nun turns into a monster', 'A haunted yarn shop']."
   ]
  },
  {
   "cell_type": "markdown",
   "metadata": {},
   "source": [
    "```1. Assign the value 7 to the variable guess_me. Then, write the conditional tests (if, else, and elif) to print the string too low if guess_me is less than 7, 'too high' if greater than 7, and just right if equal to 7.```"
   ]
  },
  {
   "cell_type": "code",
   "execution_count": 106,
   "metadata": {},
   "outputs": [
    {
     "name": "stdout",
     "output_type": "stream",
     "text": [
      "just right\n"
     ]
    }
   ],
   "source": [
    "guess_me = 7\n",
    "\n",
    "if guess_me < 7 :\n",
    "    print('too low')\n",
    "elif guess_me >  7:\n",
    "   print('too high')\n",
    "else :\n",
    "   print('just right')\n"
   ]
  },
  {
   "cell_type": "markdown",
   "metadata": {},
   "source": [
    "```2.Assign the value 7 to the variable guess_me and the value 1 to the variable start. Write a while loop that compares start with guess_me. Print too low if start is less than guess me. If start equals guess_me, print 'found it!' and exit the loop. If start is greater than guess_me, print 'oops' and exit the loop. Increment start at the end of the loop.```"
   ]
  },
  {
   "cell_type": "code",
   "execution_count": 92,
   "metadata": {},
   "outputs": [
    {
     "name": "stdout",
     "output_type": "stream",
     "text": [
      "Too low\n",
      "Too low\n",
      "Too low\n",
      "Too low\n",
      "Too low\n",
      "Too low\n",
      "found it\n"
     ]
    }
   ],
   "source": [
    "guess_me = 7\n",
    "start  = 1\n",
    "\n",
    "while start <= guess_me:\n",
    "    if start < guess_me:\n",
    "        print('Too low')\n",
    "    elif start == guess_me:\n",
    "        print('found it')\n",
    "        break\n",
    "    else:\n",
    "        print('&oops')\n",
    "        break\n",
    "    start += 1 # here start is adding 1 or incremeting with 1 unit and comapring given condition"
   ]
  },
  {
   "cell_type": "markdown",
   "metadata": {},
   "source": [
    "```3. Print the following values of the list [3, 2, 1, 0] using a for loop.```"
   ]
  },
  {
   "cell_type": "code",
   "execution_count": 93,
   "metadata": {},
   "outputs": [
    {
     "name": "stdout",
     "output_type": "stream",
     "text": [
      "3\n",
      "2\n",
      "1\n",
      "0\n"
     ]
    }
   ],
   "source": [
    "list = [3, 2, 1, 0]\n",
    "\n",
    "for x in list:\n",
    "    print(x)"
   ]
  },
  {
   "cell_type": "markdown",
   "metadata": {},
   "source": [
    "```4. Use a list comprehension to make a list of the even numbers in range(10)```"
   ]
  },
  {
   "cell_type": "code",
   "execution_count": 94,
   "metadata": {},
   "outputs": [
    {
     "name": "stdout",
     "output_type": "stream",
     "text": [
      "[0, 2, 4, 6, 8]\n"
     ]
    }
   ],
   "source": [
    "evens = [x for x in range(10) if x % 2 == 0]\n",
    "print(evens)"
   ]
  },
  {
   "cell_type": "markdown",
   "metadata": {},
   "source": [
    "```5. Use a dictionary comprehension to create the dictionary squares. Use range(10) to return the keys, and use the square of each key as its value.```"
   ]
  },
  {
   "cell_type": "code",
   "execution_count": 95,
   "metadata": {},
   "outputs": [
    {
     "name": "stdout",
     "output_type": "stream",
     "text": [
      "dict_keys([0, 1, 2, 3, 4, 5, 6, 7, 8, 9])\n",
      "dict_values([0, 1, 4, 9, 16, 25, 36, 49, 64, 81])\n"
     ]
    }
   ],
   "source": [
    "squares = {x:x**2 for x in range(10)}\n",
    "print(squares.keys())\n",
    "print(squares.values())"
   ]
  },
  {
   "cell_type": "markdown",
   "metadata": {},
   "source": [
    "```6. Construct the set odd from the odd numbers in the range using a set comprehension (10).```"
   ]
  },
  {
   "cell_type": "code",
   "execution_count": 102,
   "metadata": {},
   "outputs": [
    {
     "data": {
      "text/plain": [
       "{1, 3, 5, 7, 9}"
      ]
     },
     "execution_count": 102,
     "metadata": {},
     "output_type": "execute_result"
    }
   ],
   "source": [
    "{x for x in range(10) if x % 2 != 0}"
   ]
  },
  {
   "cell_type": "markdown",
   "metadata": {},
   "source": [
    "```7. Use a generator comprehension to return the string 'Got ' and a number for the numbers in range(10). Iterate through this by using a for loop.```"
   ]
  },
  {
   "cell_type": "code",
   "execution_count": 56,
   "metadata": {},
   "outputs": [
    {
     "name": "stdout",
     "output_type": "stream",
     "text": [
      "Got 0\n",
      "Got 1\n",
      "Got 2\n",
      "Got 3\n",
      "Got 4\n",
      "Got 5\n",
      "Got 6\n",
      "Got 7\n",
      "Got 8\n",
      "Got 9\n"
     ]
    }
   ],
   "source": [
    "generator = ('Got ' + str(num) for num in range(10))\n",
    "for x in generator:\n",
    "    print(x)\n"
   ]
  },
  {
   "cell_type": "markdown",
   "metadata": {},
   "source": [
    "```8. Define a function called good that returns the list ['Harry', 'Ron', 'Hermione'].```"
   ]
  },
  {
   "cell_type": "code",
   "execution_count": 11,
   "metadata": {},
   "outputs": [
    {
     "data": {
      "text/plain": [
       "['Harry', 'Ron', 'Hermione']"
      ]
     },
     "execution_count": 11,
     "metadata": {},
     "output_type": "execute_result"
    }
   ],
   "source": [
    "def good():\n",
    "    return ['Harry', 'Ron', 'Hermione']\n",
    "\n",
    "calling_fun  = good()\n",
    "calling_fun"
   ]
  },
  {
   "cell_type": "markdown",
   "metadata": {},
   "source": [
    "```9. Define a generator function called get_odds that returns the odd numbers from range(10). Use a for loop to find and print the third value returned.```"
   ]
  },
  {
   "cell_type": "code",
   "execution_count": 116,
   "metadata": {},
   "outputs": [
    {
     "name": "stdout",
     "output_type": "stream",
     "text": [
      "5\n"
     ]
    }
   ],
   "source": [
    "def get_odds():\n",
    "    for num in range(10):\n",
    "        if num % 2 != 0:\n",
    "            yield num\n",
    "\n",
    "generateit = get_odds()\n",
    "\n",
    "for x , y in enumerate(generateit): # here x is index and y is value\n",
    "    if x == 2:\n",
    "        print(y)"
   ]
  },
  {
   "cell_type": "markdown",
   "metadata": {},
   "source": [
    "```10. Define an exception called OopsException. Raise this exception to see what happens. Then write the code to catch this exception and print 'Caught an oops'.```"
   ]
  },
  {
   "cell_type": "code",
   "execution_count": 160,
   "metadata": {},
   "outputs": [
    {
     "name": "stdout",
     "output_type": "stream",
     "text": [
      "Caught an oops\n"
     ]
    }
   ],
   "source": [
    "class name():\n",
    "    def guy(self):\n",
    "        raise OopsException(\"Something wrong\")\n",
    "\n",
    "class OopsException(Exception):\n",
    "    pass\n",
    "\n",
    "try:\n",
    "    named = name()\n",
    "    result = named.guy()\n",
    "    print(result)\n",
    "except Exception as e:\n",
    "    print(\"Caught an oops\")"
   ]
  }
 ],
 "metadata": {
  "kernelspec": {
   "display_name": "Python 3",
   "language": "python",
   "name": "python3"
  },
  "language_info": {
   "codemirror_mode": {
    "name": "ipython",
    "version": 3
   },
   "file_extension": ".py",
   "mimetype": "text/x-python",
   "name": "python",
   "nbconvert_exporter": "python",
   "pygments_lexer": "ipython3",
   "version": "3.10.7"
  }
 },
 "nbformat": 4,
 "nbformat_minor": 2
}
